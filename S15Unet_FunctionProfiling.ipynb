{
  "nbformat": 4,
  "nbformat_minor": 0,
  "metadata": {
    "colab": {
      "name": "S15Unet_FunctionProfiling.ipynb",
      "provenance": [],
      "collapsed_sections": [],
      "toc_visible": true,
      "include_colab_link": true
    },
    "kernelspec": {
      "name": "python3",
      "display_name": "Python 3"
    },
    "widgets": {
      "application/vnd.jupyter.widget-state+json": {
        "53c34fb4fa8646f885615cba4b6793f3": {
          "model_module": "@jupyter-widgets/controls",
          "model_name": "HBoxModel",
          "state": {
            "_view_name": "HBoxView",
            "_dom_classes": [],
            "_model_name": "HBoxModel",
            "_view_module": "@jupyter-widgets/controls",
            "_model_module_version": "1.5.0",
            "_view_count": null,
            "_view_module_version": "1.5.0",
            "box_style": "",
            "layout": "IPY_MODEL_a447918820bf4ab4a9e99cdb451a0f33",
            "_model_module": "@jupyter-widgets/controls",
            "children": [
              "IPY_MODEL_2010de0dbb2543f8b0aaea5e5b70b05d",
              "IPY_MODEL_3ffce3caff284b6da0cf93d148c61301"
            ]
          }
        },
        "a447918820bf4ab4a9e99cdb451a0f33": {
          "model_module": "@jupyter-widgets/base",
          "model_name": "LayoutModel",
          "state": {
            "_view_name": "LayoutView",
            "grid_template_rows": null,
            "right": null,
            "justify_content": null,
            "_view_module": "@jupyter-widgets/base",
            "overflow": null,
            "_model_module_version": "1.2.0",
            "_view_count": null,
            "flex_flow": null,
            "width": null,
            "min_width": null,
            "border": null,
            "align_items": null,
            "bottom": null,
            "_model_module": "@jupyter-widgets/base",
            "top": null,
            "grid_column": null,
            "overflow_y": null,
            "overflow_x": null,
            "grid_auto_flow": null,
            "grid_area": null,
            "grid_template_columns": null,
            "flex": null,
            "_model_name": "LayoutModel",
            "justify_items": null,
            "grid_row": null,
            "max_height": null,
            "align_content": null,
            "visibility": null,
            "align_self": null,
            "height": null,
            "min_height": null,
            "padding": null,
            "grid_auto_rows": null,
            "grid_gap": null,
            "max_width": null,
            "order": null,
            "_view_module_version": "1.2.0",
            "grid_template_areas": null,
            "object_position": null,
            "object_fit": null,
            "grid_auto_columns": null,
            "margin": null,
            "display": null,
            "left": null
          }
        },
        "2010de0dbb2543f8b0aaea5e5b70b05d": {
          "model_module": "@jupyter-widgets/controls",
          "model_name": "FloatProgressModel",
          "state": {
            "_view_name": "ProgressView",
            "style": "IPY_MODEL_f31eb55c281c49c99890cc04e9978185",
            "_dom_classes": [],
            "description": "100%",
            "_model_name": "FloatProgressModel",
            "bar_style": "success",
            "max": 100,
            "_view_module": "@jupyter-widgets/controls",
            "_model_module_version": "1.5.0",
            "value": 100,
            "_view_count": null,
            "_view_module_version": "1.5.0",
            "orientation": "horizontal",
            "min": 0,
            "description_tooltip": null,
            "_model_module": "@jupyter-widgets/controls",
            "layout": "IPY_MODEL_603eae4f6bde430d93db4f7a98a15046"
          }
        },
        "3ffce3caff284b6da0cf93d148c61301": {
          "model_module": "@jupyter-widgets/controls",
          "model_name": "HTMLModel",
          "state": {
            "_view_name": "HTMLView",
            "style": "IPY_MODEL_7f4a728306e949cc94bf551ff03e0898",
            "_dom_classes": [],
            "description": "",
            "_model_name": "HTMLModel",
            "placeholder": "​",
            "_view_module": "@jupyter-widgets/controls",
            "_model_module_version": "1.5.0",
            "value": " 100/100 [02:04&lt;00:00,  1.25s/it]",
            "_view_count": null,
            "_view_module_version": "1.5.0",
            "description_tooltip": null,
            "_model_module": "@jupyter-widgets/controls",
            "layout": "IPY_MODEL_e19f3b6fa6854e068371f089f4289b06"
          }
        },
        "f31eb55c281c49c99890cc04e9978185": {
          "model_module": "@jupyter-widgets/controls",
          "model_name": "ProgressStyleModel",
          "state": {
            "_view_name": "StyleView",
            "_model_name": "ProgressStyleModel",
            "description_width": "initial",
            "_view_module": "@jupyter-widgets/base",
            "_model_module_version": "1.5.0",
            "_view_count": null,
            "_view_module_version": "1.2.0",
            "bar_color": null,
            "_model_module": "@jupyter-widgets/controls"
          }
        },
        "603eae4f6bde430d93db4f7a98a15046": {
          "model_module": "@jupyter-widgets/base",
          "model_name": "LayoutModel",
          "state": {
            "_view_name": "LayoutView",
            "grid_template_rows": null,
            "right": null,
            "justify_content": null,
            "_view_module": "@jupyter-widgets/base",
            "overflow": null,
            "_model_module_version": "1.2.0",
            "_view_count": null,
            "flex_flow": null,
            "width": null,
            "min_width": null,
            "border": null,
            "align_items": null,
            "bottom": null,
            "_model_module": "@jupyter-widgets/base",
            "top": null,
            "grid_column": null,
            "overflow_y": null,
            "overflow_x": null,
            "grid_auto_flow": null,
            "grid_area": null,
            "grid_template_columns": null,
            "flex": null,
            "_model_name": "LayoutModel",
            "justify_items": null,
            "grid_row": null,
            "max_height": null,
            "align_content": null,
            "visibility": null,
            "align_self": null,
            "height": null,
            "min_height": null,
            "padding": null,
            "grid_auto_rows": null,
            "grid_gap": null,
            "max_width": null,
            "order": null,
            "_view_module_version": "1.2.0",
            "grid_template_areas": null,
            "object_position": null,
            "object_fit": null,
            "grid_auto_columns": null,
            "margin": null,
            "display": null,
            "left": null
          }
        },
        "7f4a728306e949cc94bf551ff03e0898": {
          "model_module": "@jupyter-widgets/controls",
          "model_name": "DescriptionStyleModel",
          "state": {
            "_view_name": "StyleView",
            "_model_name": "DescriptionStyleModel",
            "description_width": "",
            "_view_module": "@jupyter-widgets/base",
            "_model_module_version": "1.5.0",
            "_view_count": null,
            "_view_module_version": "1.2.0",
            "_model_module": "@jupyter-widgets/controls"
          }
        },
        "e19f3b6fa6854e068371f089f4289b06": {
          "model_module": "@jupyter-widgets/base",
          "model_name": "LayoutModel",
          "state": {
            "_view_name": "LayoutView",
            "grid_template_rows": null,
            "right": null,
            "justify_content": null,
            "_view_module": "@jupyter-widgets/base",
            "overflow": null,
            "_model_module_version": "1.2.0",
            "_view_count": null,
            "flex_flow": null,
            "width": null,
            "min_width": null,
            "border": null,
            "align_items": null,
            "bottom": null,
            "_model_module": "@jupyter-widgets/base",
            "top": null,
            "grid_column": null,
            "overflow_y": null,
            "overflow_x": null,
            "grid_auto_flow": null,
            "grid_area": null,
            "grid_template_columns": null,
            "flex": null,
            "_model_name": "LayoutModel",
            "justify_items": null,
            "grid_row": null,
            "max_height": null,
            "align_content": null,
            "visibility": null,
            "align_self": null,
            "height": null,
            "min_height": null,
            "padding": null,
            "grid_auto_rows": null,
            "grid_gap": null,
            "max_width": null,
            "order": null,
            "_view_module_version": "1.2.0",
            "grid_template_areas": null,
            "object_position": null,
            "object_fit": null,
            "grid_auto_columns": null,
            "margin": null,
            "display": null,
            "left": null
          }
        }
      }
    },
    "accelerator": "GPU"
  },
  "cells": [
    {
      "cell_type": "markdown",
      "metadata": {
        "id": "view-in-github",
        "colab_type": "text"
      },
      "source": [
        "<a href=\"https://colab.research.google.com/github/rajy4683/S15FinalSubmission/blob/master/S15Unet_FunctionProfiling.ipynb\" target=\"_parent\"><img src=\"https://colab.research.google.com/assets/colab-badge.svg\" alt=\"Open In Colab\"/></a>"
      ]
    },
    {
      "cell_type": "code",
      "metadata": {
        "id": "kSuQTF6LZ-EW",
        "colab_type": "code",
        "outputId": "55e63817-da34-44d9-b132-7f51888f2622",
        "colab": {
          "base_uri": "https://localhost:8080/",
          "height": 302
        }
      },
      "source": [
        "!nvidia-smi"
      ],
      "execution_count": 0,
      "outputs": [
        {
          "output_type": "stream",
          "text": [
            "Thu May 21 13:00:07 2020       \n",
            "+-----------------------------------------------------------------------------+\n",
            "| NVIDIA-SMI 440.82       Driver Version: 418.67       CUDA Version: 10.1     |\n",
            "|-------------------------------+----------------------+----------------------+\n",
            "| GPU  Name        Persistence-M| Bus-Id        Disp.A | Volatile Uncorr. ECC |\n",
            "| Fan  Temp  Perf  Pwr:Usage/Cap|         Memory-Usage | GPU-Util  Compute M. |\n",
            "|===============================+======================+======================|\n",
            "|   0  Tesla T4            Off  | 00000000:00:04.0 Off |                    0 |\n",
            "| N/A   73C    P8    12W /  70W |      0MiB / 15079MiB |      0%      Default |\n",
            "+-------------------------------+----------------------+----------------------+\n",
            "                                                                               \n",
            "+-----------------------------------------------------------------------------+\n",
            "| Processes:                                                       GPU Memory |\n",
            "|  GPU       PID   Type   Process name                             Usage      |\n",
            "|=============================================================================|\n",
            "|  No running processes found                                                 |\n",
            "+-----------------------------------------------------------------------------+\n"
          ],
          "name": "stdout"
        }
      ]
    },
    {
      "cell_type": "code",
      "metadata": {
        "id": "TkeUIDcSJXUE",
        "colab_type": "code",
        "colab": {}
      },
      "source": [
        "from google.colab import drive\n",
        "drive.mount('/content/drive', force_remount=True)\n",
        "\n",
        "import sys\n",
        "\n",
        "import os\n",
        "#print(os.environ['CUDA_LAUNCH_BLOCKING'])"
      ],
      "execution_count": 0,
      "outputs": []
    },
    {
      "cell_type": "code",
      "metadata": {
        "id": "HIVLSOGS892D",
        "colab_type": "code",
        "colab": {}
      },
      "source": [
        "sys.path.append('/content/drive/My Drive/EVA4/RekogNizer')\n",
        "sys.path.append('/content/drive/My Drive/EVA4')\n",
        "sys.path.append('/content/drive/My Drive/EVA4/DenseDepth')"
      ],
      "execution_count": 0,
      "outputs": []
    },
    {
      "cell_type": "markdown",
      "metadata": {
        "id": "p5sd4efFT2AF",
        "colab_type": "text"
      },
      "source": [
        "### Dependencies\n"
      ]
    },
    {
      "cell_type": "code",
      "metadata": {
        "id": "M5CIVlNHJeJI",
        "colab_type": "code",
        "colab": {}
      },
      "source": [
        "!pip install -r /content/drive/My\\ Drive/EVA4/RekogNizer/requirements.txt"
      ],
      "execution_count": 0,
      "outputs": []
    },
    {
      "cell_type": "code",
      "metadata": {
        "id": "hfblgxgzgYN4",
        "colab_type": "code",
        "colab": {}
      },
      "source": [
        "!pip install -U git+https://github.com/albu/albumentations"
      ],
      "execution_count": 0,
      "outputs": []
    },
    {
      "cell_type": "code",
      "metadata": {
        "id": "Sqsllbl8Fg-i",
        "colab_type": "code",
        "outputId": "db4adef1-e4e7-4dc5-d5fa-18d6e07d8bb3",
        "colab": {
          "base_uri": "https://localhost:8080/",
          "height": 50
        }
      },
      "source": [
        "!wandb login a6f947d2d2f69e7a8c8ca0f69811fd554f27d204\n"
      ],
      "execution_count": 0,
      "outputs": [
        {
          "output_type": "stream",
          "text": [
            "\u001b[34m\u001b[1mwandb\u001b[0m: Appending key for api.wandb.ai to your netrc file: /root/.netrc\n",
            "\u001b[32mSuccessfully logged in to Weights & Biases!\u001b[0m\n"
          ],
          "name": "stdout"
        }
      ]
    },
    {
      "cell_type": "code",
      "metadata": {
        "id": "sI3bimQe2u6I",
        "colab_type": "code",
        "colab": {}
      },
      "source": [
        "import os\n",
        "\n",
        "import numpy as np\n",
        "import cv2\n",
        "from matplotlib import pyplot as plt\n",
        "from skimage.color import label2rgb\n",
        "\n",
        "import albumentations as A\n",
        "import random\n",
        "from google.colab.patches import cv2_imshow\n",
        "from PIL import Image\n",
        "import glob\n",
        "import pandas as pd\n",
        "\n",
        "import torch\n",
        "from zipfile import ZipFile\n",
        "import re\n",
        "import h5py\n",
        "import time\n",
        "\n"
      ],
      "execution_count": 0,
      "outputs": []
    },
    {
      "cell_type": "code",
      "metadata": {
        "id": "XIGpeyNt6bWF",
        "colab_type": "code",
        "outputId": "74fafb4b-a336-4614-dc18-ba19da855297",
        "colab": {
          "base_uri": "https://localhost:8080/",
          "height": 104
        }
      },
      "source": [
        "%load_ext autoreload\n",
        "%autoreload 2\n",
        "import torch\n",
        "import torchvision\n",
        "import torchvision.transforms as transforms\n",
        "from RekogNizer import hyperparams\n",
        "\n",
        "\n",
        "from albumentations import Compose, RandomCrop, Normalize, HorizontalFlip, Resize, Cutout, MotionBlur\n",
        "from albumentations import (\n",
        "    HorizontalFlip, Compose, RandomCrop, Cutout,Normalize, HorizontalFlip, RandomBrightnessContrast,\n",
        "    Resize,RandomSizedCrop, MotionBlur,MultiplicativeNoise,InvertImg, IAAFliplr,\n",
        "\tIAAPerspective,\n",
        ")\n",
        "from albumentations.pytorch import ToTensor\n",
        "import random\n",
        "\n",
        "from torchvision.datasets.vision import VisionDataset\n",
        "from torchvision.datasets.utils import check_integrity, download_and_extract_archive\n",
        "import os\n",
        "import sys\n",
        "import numpy as np\n",
        "from torchvision import datasets\n",
        "#from RekogNizer import imgnetloader\n",
        "from RekogNizer import basemodelclass\n",
        "from RekogNizer import mmdlrfinder\n",
        "\n",
        "from RekogNizer import mmdtraintest\n",
        "from RekogNizer import mmddataloader\n",
        "from RekogNizer import mmdlosses\n",
        "from RekogNizer import mmdmodels\n",
        "\n",
        "from RekogNizer import hyperparams\n",
        "from RekogNizer import fileutils\n",
        "\n",
        "from torch.utils.data import Dataset\n",
        "import shutil\n",
        "from tqdm import tqdm\n",
        "from RekogNizer import mmdmodels\n",
        "\n",
        "import torch\n",
        "import torch.nn as nn\n",
        "import torch.nn.functional as F\n",
        "import torch.optim as optim\n",
        "from torch.optim.lr_scheduler import StepLR, OneCycleLR, MultiStepLR, CyclicLR, ReduceLROnPlateau\n",
        "\n",
        "\n",
        "import kornia\n",
        "\n",
        "import cv2\n",
        "import numpy as np\n",
        "import matplotlib.pyplot as plt\n",
        "from torchsummary import summary\n",
        "import wandb"
      ],
      "execution_count": 0,
      "outputs": [
        {
          "output_type": "stream",
          "text": [
            "WARNING:RekogNizer.lrfinder:To enable mixed precision training, please install `apex`. Or you can re-install this package by the following command:\n",
            "  pip install torch-lr-finder -v --global-option=\"amp\"\n",
            "WARNING:RekogNizer.mmdlrfinder:To enable mixed precision training, please install `apex`. Or you can re-install this package by the following command:\n",
            "  pip install torch-lr-finder -v --global-option=\"amp\"\n"
          ],
          "name": "stderr"
        }
      ]
    },
    {
      "cell_type": "code",
      "metadata": {
        "id": "fKusfKBzB3i9",
        "colab_type": "code",
        "colab": {}
      },
      "source": [
        "!rm -rf /content/train && mkdir -p /content/train\n",
        "!rm -rf /content/test && mkdir -p /content/test"
      ],
      "execution_count": 0,
      "outputs": []
    },
    {
      "cell_type": "code",
      "metadata": {
        "id": "hlfpQ5iFBsAu",
        "colab_type": "code",
        "outputId": "5f5cd901-eaa5-475f-8d43-435aede1e66b",
        "colab": {
          "base_uri": "https://localhost:8080/",
          "height": 50
        }
      },
      "source": [
        "%%time\n",
        "csv_file ='/content/drive/My Drive/EVA4/tsai/S15EVA4/FinalDataSet/DepthMapDataSetTrain.csv'\n",
        "root_dir = '/content/drive/My Drive/EVA4/tsai/S15EVA4/'\n",
        "batch_start = 0\n",
        "batch_end = batch_start+5000\n",
        "dest_dir=\"/content/train\"\n",
        "\n",
        "#mmddataloader.extract_data_files_mt(csv_file, root_dir, batch_start,batch_end, dest_dir=dest_dir)\n"
      ],
      "execution_count": 0,
      "outputs": [
        {
          "output_type": "stream",
          "text": [
            "CPU times: user 2 µs, sys: 1e+03 ns, total: 3 µs\n",
            "Wall time: 4.77 µs\n"
          ],
          "name": "stdout"
        }
      ]
    },
    {
      "cell_type": "code",
      "metadata": {
        "id": "qn-DyuZHB7U2",
        "colab_type": "code",
        "colab": {}
      },
      "source": [
        "#%%time \n",
        "size_hw = (224,224)\n",
        "\n",
        "dest_dir=\"/content/train\"\n",
        "train_batch_size = 32\n",
        "depth_dataset = mmddataloader.DepthMaskDataSet(csv_file, dest_dir, batch_start,batch_end, read_zip=False,\n",
        "                                 transform_base=mmddataloader.resize_bg(size_hw[0],size_hw[1],[0.56632738, 0.51567622, 0.45670792], [0.1076622, 0.10650349, 0.12808967] ),\n",
        "                                 transform_bg=mmddataloader.resize_bg(size_hw[0],size_hw[1],[0.57469445, 0.52241555, 0.45992244], [0.11322354, 0.11195428, 0.13441683]),\n",
        "                                 transform_mask = mmddataloader.resize_bg_nonNorm(size_hw[0],size_hw[1]),\n",
        "                                 transform_depth = mmddataloader.resize_bg_nonNorm(size_hw[0],size_hw[1]),\n",
        "                                 #transform_mask=mmddataloader.resize_bg(size_hw[0],size_hw[1], [0.0579508], [0.001662]),\n",
        "                                 #transform_depth=mmddataloader.resize_bg(size_hw[0],size_hw[1], [0.3679109], [0.03551773]),\n",
        "                                 )\n",
        "from torch.utils.data import DataLoader\n",
        "kwargs= { 'num_workers':8,'pin_memory': True}\n",
        "train_loader = DataLoader(depth_dataset, batch_size=train_batch_size, shuffle=False, **kwargs)"
      ],
      "execution_count": 0,
      "outputs": []
    },
    {
      "cell_type": "code",
      "metadata": {
        "id": "jQrBqW1OsPls",
        "colab_type": "code",
        "colab": {}
      },
      "source": [
        "i,o1, o2 = iter(train_loader).next()"
      ],
      "execution_count": 0,
      "outputs": []
    },
    {
      "cell_type": "code",
      "metadata": {
        "id": "dLV61wyVsWff",
        "colab_type": "code",
        "outputId": "846d5455-2229-409b-d664-475748d92fdb",
        "colab": {
          "base_uri": "https://localhost:8080/",
          "height": 67
        }
      },
      "source": [
        "i.shape,o1.shape,o2.shape"
      ],
      "execution_count": 0,
      "outputs": [
        {
          "output_type": "execute_result",
          "data": {
            "text/plain": [
              "(torch.Size([32, 6, 224, 224]),\n",
              " torch.Size([32, 1, 224, 224]),\n",
              " torch.Size([32, 1, 224, 224]))"
            ]
          },
          "metadata": {
            "tags": []
          },
          "execution_count": 49
        }
      ]
    },
    {
      "cell_type": "code",
      "metadata": {
        "id": "1ONQcLvDC1E9",
        "colab_type": "code",
        "colab": {}
      },
      "source": [
        "test_csv_file ='/content/drive/My Drive/EVA4/tsai/S15EVA4/FinalDataSet/DepthMapDataSetTest.csv'\n",
        "root_dir = '/content/drive/My Drive/EVA4/tsai/S15EVA4/'\n",
        "test_batch_start = 0\n",
        "test_batch_end = test_batch_start + 100\n",
        "test_dest_dir = \"/content/test\"\n",
        "\n",
        "#mmddataloader.extract_data_files(test_csv_file, root_dir, test_batch_start,test_batch_end, dest_dir=test_dest_dir)"
      ],
      "execution_count": 0,
      "outputs": []
    },
    {
      "cell_type": "code",
      "metadata": {
        "id": "OlGz0CJEC1_W",
        "colab_type": "code",
        "colab": {}
      },
      "source": [
        "size_hw = (224,224)\n",
        "test_dest_dir = \"/content/test\"\n",
        "test_batch_size=32\n",
        "test_dataset = mmddataloader.DepthMaskDataSet(test_csv_file, test_dest_dir, test_batch_start,test_batch_end,read_zip=False,\n",
        "                                 transform_base=mmddataloader.resize_bg(size_hw[0],size_hw[1],[0.56632738, 0.51567622, 0.45670792], [0.1076622, 0.10650349, 0.12808967] ),\n",
        "                                 transform_bg=mmddataloader.resize_bg(size_hw[0],size_hw[1],[0.57469445, 0.52241555, 0.45992244], [0.11322354, 0.11195428, 0.13441683]),\n",
        "                                 transform_mask = mmddataloader.resize_bg_nonNorm(size_hw[0],size_hw[1]),\n",
        "                                 transform_depth = mmddataloader.resize_bg_nonNorm(size_hw[0],size_hw[1]),\n",
        "                                 #transform_mask=mmddataloader.resize_bg(size_hw[0],size_hw[1], [0.0579508], [0.001662]),\n",
        "                                 #transform_depth=mmddataloader.resize_bg(size_hw[0],size_hw[1], [0.3679109], [0.03551773]),\n",
        "                                 )\n",
        "from torch.utils.data import DataLoader\n",
        "kwargs= { 'num_workers':4,'pin_memory': True}\n",
        "test_loader = DataLoader(test_dataset, batch_size=test_batch_size, shuffle=False, **kwargs)"
      ],
      "execution_count": 0,
      "outputs": []
    },
    {
      "cell_type": "code",
      "metadata": {
        "id": "d_vEiaWBqCxx",
        "colab_type": "code",
        "colab": {}
      },
      "source": [
        "import traceback\n",
        "def profile_dataloader(data_loader, sample_count=500000):\n",
        "    pbar = tqdm(data_loader)\n",
        "    for batch_idx, dataset in enumerate(pbar):\n",
        "        #traceback.print_stack()\n",
        "        data_len = len(dataset['input'])\n",
        "        if(batch_idx > sample_count):\n",
        "            #traceback.print_stack()\n",
        "            break\n",
        "    #traceback.print_stack()\n"
      ],
      "execution_count": 0,
      "outputs": []
    },
    {
      "cell_type": "code",
      "metadata": {
        "id": "3XTlt_vyMLcQ",
        "colab_type": "code",
        "colab": {}
      },
      "source": [
        "%%time"
      ],
      "execution_count": 0,
      "outputs": []
    },
    {
      "cell_type": "code",
      "metadata": {
        "id": "EswyH3-1HTwR",
        "colab_type": "code",
        "colab": {}
      },
      "source": [
        "profile_dataloader(train_loader,1)"
      ],
      "execution_count": 0,
      "outputs": []
    },
    {
      "cell_type": "code",
      "metadata": {
        "id": "Fhrp9-ZEq8Oe",
        "colab_type": "code",
        "outputId": "bc6d873b-e06c-43fd-ad33-948fd3d2ef65",
        "colab": {
          "base_uri": "https://localhost:8080/",
          "height": 67
        }
      },
      "source": [
        "%%time \n",
        "profile_dataloader(train_loader)"
      ],
      "execution_count": 0,
      "outputs": [
        {
          "output_type": "stream",
          "text": [
            "100%|██████████| 391/391 [05:55<00:00,  1.10it/s]"
          ],
          "name": "stderr"
        },
        {
          "output_type": "stream",
          "text": [
            "CPU times: user 2.86 s, sys: 2.75 s, total: 5.61 s\n",
            "Wall time: 5min 55s\n"
          ],
          "name": "stdout"
        },
        {
          "output_type": "stream",
          "text": [
            "\n"
          ],
          "name": "stderr"
        }
      ]
    },
    {
      "cell_type": "markdown",
      "metadata": {
        "id": "XDgu3L1P4oiI",
        "colab_type": "text"
      },
      "source": [
        "### Dataloader profiling:\n",
        "`DataSet = {'input': [6, 224, 224], 'output': [[224,224], [224,224]]}`\n",
        "For 100K (i.e 100Kx4)\n",
        "\n",
        "\n",
        "1.   Size: (224,224) Batch Size: 128\n",
        "```\n",
        "Time Taken: CPU times: user 33.4 s, sys: 37.3 s, total: 1min 10s\n",
        "Wall time: 12min 7s\n",
        "```\n",
        "2.   Size: (224,224) Batch Size: 64\n",
        "```\n",
        "CPU times: user 36.6 s, sys: 39.6 s, total: 1min 16s\n",
        "Wall time: 12min 52s\n",
        "```\n",
        "3.   Size: (56,56) Batch Size: 256\n",
        "```\n",
        "CPU times: user 2.86 s, sys: 2.75 s, total: 5.61 s\n",
        "Wall time: 5min 55s\n",
        "```\n",
        "\n",
        "\n",
        "\n",
        "\n",
        "\n",
        "\n"
      ]
    },
    {
      "cell_type": "code",
      "metadata": {
        "id": "6Aw_nQl8G_yo",
        "colab_type": "code",
        "colab": {}
      },
      "source": [
        "def print_dataloader_stack():\n",
        "    \n",
        "    traceback.print_stack()"
      ],
      "execution_count": 0,
      "outputs": []
    },
    {
      "cell_type": "code",
      "metadata": {
        "id": "UUOp6PWlAGvz",
        "colab_type": "code",
        "colab": {}
      },
      "source": [
        "import cProfile"
      ],
      "execution_count": 0,
      "outputs": []
    },
    {
      "cell_type": "code",
      "metadata": {
        "id": "sBRKSfDtMT7P",
        "colab_type": "code",
        "colab": {}
      },
      "source": [
        "cProfile.run('depth_dataset[100]')"
      ],
      "execution_count": 0,
      "outputs": []
    },
    {
      "cell_type": "code",
      "metadata": {
        "id": "dNRJ7KwiAMrn",
        "colab_type": "code",
        "colab": {}
      },
      "source": [
        "cProfile.run('profile_dataloader(train_loader)')"
      ],
      "execution_count": 0,
      "outputs": []
    },
    {
      "cell_type": "code",
      "metadata": {
        "id": "nk6B-SYKGy4g",
        "colab_type": "code",
        "colab": {}
      },
      "source": [
        ""
      ],
      "execution_count": 0,
      "outputs": []
    },
    {
      "cell_type": "code",
      "metadata": {
        "id": "05fjncl9wbtK",
        "colab_type": "code",
        "outputId": "19f05f05-dcbe-4e31-9324-be79c4e194ef",
        "colab": {
          "base_uri": "https://localhost:8080/",
          "height": 34
        }
      },
      "source": [
        "iter(train_loader).next()['input'].shape"
      ],
      "execution_count": 0,
      "outputs": [
        {
          "output_type": "execute_result",
          "data": {
            "text/plain": [
              "torch.Size([101, 6, 56, 56])"
            ]
          },
          "metadata": {
            "tags": []
          },
          "execution_count": 13
        }
      ]
    },
    {
      "cell_type": "code",
      "metadata": {
        "id": "VZZovqsN4xUp",
        "colab_type": "code",
        "colab": {}
      },
      "source": [
        "size_hw = (224,224)\n",
        "dest_dir=\"/content/train\"\n",
        "train_batch_size = 8\n",
        "depth_dataset = mmddataloader.DepthMaskDataSet(csv_file, dest_dir, batch_start,batch_end, read_zip=False,\n",
        "                                 transform_base=mmddataloader.resize_bg(size_hw[0],size_hw[1],[0.56632738, 0.51567622, 0.45670792], [0.1076622, 0.10650349, 0.12808967] ),\n",
        "                                 transform_bg=mmddataloader.resize_bg(size_hw[0],size_hw[1],[0.57469445, 0.52241555, 0.45992244], [0.11322354, 0.11195428, 0.13441683]),\n",
        "                                 transform_mask = mmddataloader.resize_bg_nonNorm(size_hw[0],size_hw[1]),\n",
        "                                 transform_depth = mmddataloader.resize_bg_nonNorm(size_hw[0],size_hw[1]),\n",
        "                                 #transform_mask=mmddataloader.resize_bg(size_hw[0],size_hw[1], [0.0579508], [0.001662]),\n",
        "                                 #transform_depth=mmddataloader.resize_bg(size_hw[0],size_hw[1], [0.3679109], [0.03551773]),\n",
        "                                 )\n",
        "from torch.utils.data import DataLoader\n",
        "kwargs= { 'num_workers':4,'pin_memory': True}\n",
        "train_loader = DataLoader(depth_dataset, batch_size=train_batch_size, shuffle=False, **kwargs)"
      ],
      "execution_count": 0,
      "outputs": []
    },
    {
      "cell_type": "code",
      "metadata": {
        "id": "-4czyuoHM82L",
        "colab_type": "code",
        "outputId": "c0d1fd2a-3a9f-4670-e11a-eccaf59df0b4",
        "colab": {
          "base_uri": "https://localhost:8080/",
          "referenced_widgets": [
            "53c34fb4fa8646f885615cba4b6793f3",
            "a447918820bf4ab4a9e99cdb451a0f33",
            "2010de0dbb2543f8b0aaea5e5b70b05d",
            "3ffce3caff284b6da0cf93d148c61301",
            "f31eb55c281c49c99890cc04e9978185",
            "603eae4f6bde430d93db4f7a98a15046",
            "7f4a728306e949cc94bf551ff03e0898",
            "e19f3b6fa6854e068371f089f4289b06"
          ]
        }
      },
      "source": [
        "from RekogNizer import mmdtraintest\n",
        "from RekogNizer import mmdlosses\n",
        "\n",
        "criterion={\"mask\":[mmdlosses.LocalBCELoss, mmdlosses.LocalSSIMLoss ], \n",
        "           \"depth\":[mmdlosses.LocalL1Loss, mmdlosses.LocalSSIMLoss]}\n",
        "\n",
        "#criterion={\"mask\":[mmdlosses.dice_loss, mmdlosses.LocalBCELoss, mmdlosses.LocalSSIMLoss ], \"depth\":[mmdlosses.LocalRMSELoss]}\n",
        "#model = basemodelclass.MonoMaskDepthResNetFunc()\n",
        "optimizer=optim.SGD(model_new.parameters(), lr=0.001,momentum=0.9,  weight_decay=0)\n",
        "lrfinder = mmdtraintest.find_lr_type1(model_new, optimizer, criterion, train_loader, testloader=None, seed=1, start_lr=0.0001, end_lr=1, step_mode=\"exp\",num_iter=100)\n"
      ],
      "execution_count": 0,
      "outputs": [
        {
          "output_type": "display_data",
          "data": {
            "application/vnd.jupyter.widget-view+json": {
              "model_id": "53c34fb4fa8646f885615cba4b6793f3",
              "version_minor": 0,
              "version_major": 2
            },
            "text/plain": [
              "HBox(children=(FloatProgress(value=0.0), HTML(value='')))"
            ]
          },
          "metadata": {
            "tags": []
          }
        },
        {
          "output_type": "stream",
          "text": [
            "\n",
            "Learning rate search finished. See the graph with {finder_name}.plot()\n"
          ],
          "name": "stdout"
        }
      ]
    },
    {
      "cell_type": "code",
      "metadata": {
        "id": "uGBwSIEHQQ2C",
        "colab_type": "code",
        "outputId": "5df5d9ba-9082-426c-8d19-70f8df81733f",
        "colab": {
          "base_uri": "https://localhost:8080/"
        }
      },
      "source": [
        "min_lr = lrfinder.history['lr'][np.argmin(lrfinder.history['loss'])]\n",
        "max_lr = np.max(lrfinder.history['lr'])\n",
        "print(min_lr, max_lr, np.min(lrfinder.history['loss']))\n",
        "print(lrfinder.history)\n",
        "lrfinder.plot()"
      ],
      "execution_count": 0,
      "outputs": [
        {
          "output_type": "stream",
          "text": [
            "0.02754228703338166 1.0 0.8153246641159058\n",
            "{'lr': [0.00010964781961431851, 0.0001202264434617413, 0.0001318256738556407, 0.00014454397707459274, 0.00015848931924611136, 0.00017378008287493755, 0.00019054607179632473, 0.00020892961308540398, 0.00022908676527677731, 0.000251188643150958, 0.0002754228703338166, 0.00030199517204020164, 0.00033113112148259116, 0.0003630780547701014, 0.00039810717055349724, 0.00043651583224016605, 0.00047863009232263843, 0.0005248074602497726, 0.000575439937337157, 0.0006309573444801934, 0.0006918309709189364, 0.0007585775750291837, 0.0008317637711026711, 0.0009120108393559097, 0.001, 0.0010964781961431851, 0.0012022644346174132, 0.0013182567385564075, 0.0014454397707459273, 0.0015848931924611134, 0.0017378008287493754, 0.0019054607179632473, 0.00208929613085404, 0.0022908676527677737, 0.0025118864315095794, 0.0027542287033381664, 0.003019951720402016, 0.0033113112148259113, 0.0036307805477010144, 0.003981071705534973, 0.004365158322401658, 0.004786300923226383, 0.005248074602497726, 0.00575439937337157, 0.006309573444801933, 0.006918309709189366, 0.007585775750291837, 0.008317637711026709, 0.009120108393559099, 0.01, 0.01096478196143185, 0.012022644346174132, 0.013182567385564073, 0.01445439770745928, 0.01584893192461114, 0.017378008287493762, 0.019054607179632466, 0.02089296130854039, 0.022908676527677724, 0.025118864315095798, 0.02754228703338166, 0.030199517204020164, 0.03311311214825911, 0.036307805477010145, 0.039810717055349734, 0.04365158322401661, 0.04786300923226385, 0.052480746024977286, 0.057543993733715666, 0.0630957344480193, 0.06918309709189363, 0.07585775750291836, 0.08317637711026708, 0.09120108393559097, 0.1, 0.10964781961431852, 0.12022644346174131, 0.13182567385564076, 0.1445439770745928, 0.1584893192461114, 0.17378008287493762, 0.19054607179632463, 0.2089296130854039, 0.22908676527677727, 0.251188643150958, 0.2754228703338166, 0.30199517204020165, 0.3311311214825911, 0.3630780547701014, 0.39810717055349737, 0.43651583224016616, 0.47863009232263853, 0.5248074602497729, 0.5754399373371566, 0.630957344480193, 0.6918309709189363, 0.7585775750291837, 0.831763771102671, 0.9120108393559097, 1.0], 'loss': [1.3855743408203125, 1.3722624778747559, 1.384255051612854, 1.3848580121994019, 1.37433922290802, 1.3822386264801025, 1.369051456451416, 1.3742517232894897, 1.378016471862793, 1.3758052587509155, 1.3748871088027954, 1.3783870935440063, 1.3695712089538574, 1.3862903118133545, 1.373920202255249, 1.3729579448699951, 1.3762363195419312, 1.3712717294692993, 1.3753398656845093, 1.3703103065490723, 1.3715585470199585, 1.3681623935699463, 1.3653737306594849, 1.3570178747177124, 1.3557052612304688, 1.3559660911560059, 1.3591448068618774, 1.3525539636611938, 1.3529208898544312, 1.3460806608200073, 1.3459402322769165, 1.3419103622436523, 1.3286466598510742, 1.3222179412841797, 1.32847261428833, 1.325797200202942, 1.2953130006790161, 1.2827892303466797, 1.2659213542938232, 1.0227195024490356, 1.2351919412612915, 1.171395182609558, 1.132760763168335, 1.0867596864700317, 1.0466092824935913, 1.0087885856628418, 0.9771723747253418, 0.9602682590484619, 0.9293962121009827, 0.9093442559242249, 0.8889791369438171, 0.8771870732307434, 0.8685764074325562, 0.8484999537467957, 0.8347965478897095, 0.8245929479598999, 0.827915608882904, 0.8411033749580383, 0.825474739074707, 0.82520991563797, 0.8153246641159058, 0.8891055583953857, 0.8221007585525513, 0.8788580298423767, 0.8331940770149231, 0.8225686550140381, 0.8283341526985168, 0.8789096474647522, 0.897966742515564, 0.8713680505752563, 0.863384485244751, 0.8704322576522827, 0.8743667006492615, 0.9624451994895935, 0.9843223094940186, 0.8889490365982056, 0.8942384719848633, 0.9971839189529419, 1.122450351715088, 1.009717345237732, 0.9676525592803955, 1.0200961828231812, 1.1229087114334106, 0.9788751602172852, 1.0953501462936401, 1.1004678010940552, 1.0610170364379883, 0.970481812953949, 1.036226511001587, 1.6453478336334229, 1.5103516578674316, 1.2215163707733154, 1.1857523918151855, 1.2720937728881836, 1.109531283378601, 1.3608217239379883, 2.164881944656372, 2.7739996910095215, 2.415586233139038, 1.0939645767211914], 'acc': [], 'val_acc': []}\n",
            "LR plotting in progress\n"
          ],
          "name": "stdout"
        },
        {
          "output_type": "display_data",
          "data": {
            "image/png": "[encoded data removed]",
            "text/plain": [
              "<Figure size 432x288 with 1 Axes>"
            ]
          },
          "metadata": {
            "tags": [],
            "needs_background": "light"
          }
        }
      ]
    },
    {
      "cell_type": "code",
      "metadata": {
        "id": "kf60MIkZJvRe",
        "colab_type": "code",
        "colab": {}
      },
      "source": [
        "summary(model_new, input_size=(6,64,64)  )"
      ],
      "execution_count": 0,
      "outputs": []
    },
    {
      "cell_type": "code",
      "metadata": {
        "id": "bpo-PtlWkmaR",
        "colab_type": "code",
        "colab": {}
      },
      "source": [
        "del model\n",
        "torch.cuda.empty_cache()"
      ],
      "execution_count": 0,
      "outputs": []
    },
    {
      "cell_type": "code",
      "metadata": {
        "id": "ChEFy3qykdN1",
        "colab_type": "code",
        "colab": {}
      },
      "source": [
        "lrfinder.reset()"
      ],
      "execution_count": 0,
      "outputs": []
    },
    {
      "cell_type": "code",
      "metadata": {
        "id": "rmYsunOxKM6K",
        "colab_type": "code",
        "colab": {}
      },
      "source": [
        "device = torch.device(\"cuda\" if not hyperparams.hyperparameter_defaults['no_cuda'] else \"cpu\")\n",
        "model_new  =mmdmodels.UNet(n_channels=6, n_classes=2)\n",
        "expand_model  =mmdmodels.CustomUNet(model_new,n_channels=6, n_classes=2)\n",
        "# model_new = mmdtraintest.load_model_for_infer(model_new, \n",
        "#                                   '/content/drive/My Drive/EVA4/model_saves/model-30d31a02c7.h5',\n",
        "#                                   device)"
      ],
      "execution_count": 0,
      "outputs": []
    },
    {
      "cell_type": "code",
      "metadata": {
        "id": "uj-Ge3TW4umQ",
        "colab_type": "code",
        "colab": {}
      },
      "source": [
        "expand_model = mmdtraintest.load_model_for_infer(expand_model, \n",
        "                                  '/content/drive/My Drive/EVA4/model_saves/model-2b6defd394.h5',\n",
        "                                  device)\n",
        "model_new_params = ['baseUNet.'+param[0] for param in list(model_new.named_parameters()) ]\n",
        "expand_model_params = [param[1] for param in list(expand_model.named_parameters()) if param[0] not in model_new_params]"
      ],
      "execution_count": 0,
      "outputs": []
    },
    {
      "cell_type": "code",
      "metadata": {
        "id": "R1bvQFK8dy7v",
        "colab_type": "code",
        "colab": {}
      },
      "source": [
        "for parameter in model_new.parameters():\n",
        "    print(parameter.requires_grad)# = False"
      ],
      "execution_count": 0,
      "outputs": []
    },
    {
      "cell_type": "code",
      "metadata": {
        "id": "W-EehFzsiT3D",
        "colab_type": "code",
        "colab": {}
      },
      "source": [
        "expand_model.named_parameters()"
      ],
      "execution_count": 0,
      "outputs": []
    },
    {
      "cell_type": "code",
      "metadata": {
        "id": "Wm9YHT3jfy4l",
        "colab_type": "code",
        "colab": {}
      },
      "source": [
        "model_new_params = ['baseUNet.'+param[0] for param in list(model_new.named_parameters()) ]\n",
        "expand_model_params = [  ]\n",
        "for param in list(expand_model.named_parameters()):\n",
        "    if re.search('up',param[0]) or (param[0] not in model_new_params):\n",
        "        expand_model_params.append(param[1])\n",
        "    "
      ],
      "execution_count": 0,
      "outputs": []
    },
    {
      "cell_type": "code",
      "metadata": {
        "id": "EzR2VFFP4TCA",
        "colab_type": "code",
        "outputId": "f3c8b704-d01c-4fc0-d49d-696ce1a82c3a",
        "colab": {
          "base_uri": "https://localhost:8080/",
          "height": 34
        }
      },
      "source": [
        "len(expand_model_params)"
      ],
      "execution_count": 0,
      "outputs": [
        {
          "output_type": "execute_result",
          "data": {
            "text/plain": [
              "51"
            ]
          },
          "metadata": {
            "tags": []
          },
          "execution_count": 20
        }
      ]
    },
    {
      "cell_type": "code",
      "metadata": {
        "id": "5zQYGbQTjEpf",
        "colab_type": "code",
        "outputId": "f197f510-fe74-41ba-89fa-3e8995b66f4b",
        "colab": {
          "base_uri": "https://localhost:8080/",
          "height": 34
        }
      },
      "source": [
        "len(model_new_params),len(expand_model_params), len(list(expand_model.parameters()))"
      ],
      "execution_count": 0,
      "outputs": [
        {
          "output_type": "execute_result",
          "data": {
            "text/plain": [
              "(74, 19, 93)"
            ]
          },
          "metadata": {
            "tags": []
          },
          "execution_count": 56
        }
      ]
    },
    {
      "cell_type": "code",
      "metadata": {
        "id": "dUchsGgXhYcR",
        "colab_type": "code",
        "outputId": "7524d151-c37f-44e5-c844-d4688ca063af",
        "colab": {
          "base_uri": "https://localhost:8080/",
          "height": 34
        }
      },
      "source": [
        "len(expand_model_params)"
      ],
      "execution_count": 0,
      "outputs": [
        {
          "output_type": "execute_result",
          "data": {
            "text/plain": [
              "19"
            ]
          },
          "metadata": {
            "tags": []
          },
          "execution_count": 54
        }
      ]
    },
    {
      "cell_type": "code",
      "metadata": {
        "id": "Eay7xk98YmTd",
        "colab_type": "code",
        "outputId": "6f071d24-b77f-4ed7-932e-4b35b7561cf2",
        "colab": {
          "base_uri": "https://localhost:8080/",
          "height": 1000
        }
      },
      "source": [
        "pr.print_stats()"
      ],
      "execution_count": 0,
      "outputs": [
        {
          "output_type": "stream",
          "text": [
            "         1094989 function calls (1054467 primitive calls) in 181.691 seconds\n",
            "\n",
            "   Ordered by: standard name\n",
            "\n",
            "   ncalls  tottime  percall  cumtime  percall filename:lineno(function)\n",
            "        3    0.000    0.000    0.000    0.000 <frozen importlib._bootstrap>:103(release)\n",
            "        3    0.000    0.000    0.000    0.000 <frozen importlib._bootstrap>:143(__init__)\n",
            "        3    0.000    0.000    0.000    0.000 <frozen importlib._bootstrap>:147(__enter__)\n",
            "        3    0.000    0.000    0.000    0.000 <frozen importlib._bootstrap>:151(__exit__)\n",
            "        3    0.000    0.000    0.000    0.000 <frozen importlib._bootstrap>:157(_get_module_lock)\n",
            "        3    0.000    0.000    0.000    0.000 <frozen importlib._bootstrap>:176(cb)\n",
            "        3    0.000    0.000    0.000    0.000 <frozen importlib._bootstrap>:211(_call_with_frames_removed)\n",
            "       21    0.000    0.000    0.000    0.000 <frozen importlib._bootstrap>:222(_verbose_message)\n",
            "        3    0.000    0.000    0.000    0.000 <frozen importlib._bootstrap>:307(__init__)\n",
            "        3    0.000    0.000    0.000    0.000 <frozen importlib._bootstrap>:311(__enter__)\n",
            "        3    0.000    0.000    0.000    0.000 <frozen importlib._bootstrap>:318(__exit__)\n",
            "       12    0.000    0.000    0.000    0.000 <frozen importlib._bootstrap>:321(<genexpr>)\n",
            "        3    0.000    0.000    0.000    0.000 <frozen importlib._bootstrap>:35(_new_module)\n",
            "        3    0.000    0.000    0.000    0.000 <frozen importlib._bootstrap>:369(__init__)\n",
            "        6    0.000    0.000    0.000    0.000 <frozen importlib._bootstrap>:403(cached)\n",
            "      203    0.001    0.000    0.001    0.000 <frozen importlib._bootstrap>:416(parent)\n",
            "        3    0.000    0.000    0.000    0.000 <frozen importlib._bootstrap>:424(has_location)\n",
            "        3    0.000    0.000    0.000    0.000 <frozen importlib._bootstrap>:504(_init_module_attrs)\n",
            "        3    0.000    0.000    0.000    0.000 <frozen importlib._bootstrap>:564(module_from_spec)\n",
            "        3    0.000    0.000    0.000    0.000 <frozen importlib._bootstrap>:58(__init__)\n",
            "        3    0.000    0.000    0.001    0.000 <frozen importlib._bootstrap>:651(_load_unlocked)\n",
            "        3    0.000    0.000    0.000    0.000 <frozen importlib._bootstrap>:707(find_spec)\n",
            "        3    0.000    0.000    0.000    0.000 <frozen importlib._bootstrap>:78(acquire)\n",
            "        3    0.000    0.000    0.000    0.000 <frozen importlib._bootstrap>:780(find_spec)\n",
            "       18    0.000    0.000    0.000    0.000 <frozen importlib._bootstrap>:843(__enter__)\n",
            "       18    0.000    0.000    0.000    0.000 <frozen importlib._bootstrap>:847(__exit__)\n",
            "        9    0.000    0.000    0.000    0.000 <frozen importlib._bootstrap>:861(_find_spec_legacy)\n",
            "        3    0.000    0.000    0.001    0.000 <frozen importlib._bootstrap>:870(_find_spec)\n",
            "        3    0.000    0.000    0.002    0.001 <frozen importlib._bootstrap>:936(_find_and_load_unlocked)\n",
            "        3    0.000    0.000    0.002    0.001 <frozen importlib._bootstrap>:966(_find_and_load)\n",
            "      215    0.000    0.000    0.001    0.000 <frozen importlib._bootstrap>:997(_handle_fromlist)\n",
            "        3    0.000    0.000    0.000    0.000 <frozen importlib._bootstrap_external>:1080(_path_importer_cache)\n",
            "        3    0.000    0.000    0.001    0.000 <frozen importlib._bootstrap_external>:1117(_get_spec)\n",
            "        3    0.000    0.000    0.001    0.000 <frozen importlib._bootstrap_external>:1149(find_spec)\n",
            "        3    0.000    0.000    0.000    0.000 <frozen importlib._bootstrap_external>:1228(_get_spec)\n",
            "        3    0.001    0.000    0.001    0.000 <frozen importlib._bootstrap_external>:1233(find_spec)\n",
            "        6    0.000    0.000    0.000    0.000 <frozen importlib._bootstrap_external>:263(cache_from_source)\n",
            "        3    0.000    0.000    0.000    0.000 <frozen importlib._bootstrap_external>:361(_get_cached)\n",
            "        3    0.000    0.000    0.000    0.000 <frozen importlib._bootstrap_external>:393(_check_name_wrapper)\n",
            "        3    0.000    0.000    0.000    0.000 <frozen importlib._bootstrap_external>:41(_relax_case)\n",
            "        3    0.000    0.000    0.000    0.000 <frozen importlib._bootstrap_external>:430(_validate_bytecode_header)\n",
            "        3    0.000    0.000    0.000    0.000 <frozen importlib._bootstrap_external>:485(_compile_bytecode)\n",
            "        6    0.000    0.000    0.000    0.000 <frozen importlib._bootstrap_external>:52(_r_long)\n",
            "        3    0.000    0.000    0.000    0.000 <frozen importlib._bootstrap_external>:524(spec_from_file_location)\n",
            "       18    0.000    0.000    0.000    0.000 <frozen importlib._bootstrap_external>:57(_path_join)\n",
            "       18    0.000    0.000    0.000    0.000 <frozen importlib._bootstrap_external>:59(<listcomp>)\n",
            "        6    0.000    0.000    0.000    0.000 <frozen importlib._bootstrap_external>:63(_path_split)\n",
            "        3    0.000    0.000    0.000    0.000 <frozen importlib._bootstrap_external>:669(create_module)\n",
            "        3    0.000    0.000    0.001    0.000 <frozen importlib._bootstrap_external>:672(exec_module)\n",
            "        3    0.000    0.000    0.001    0.000 <frozen importlib._bootstrap_external>:743(get_code)\n",
            "        9    0.000    0.000    0.000    0.000 <frozen importlib._bootstrap_external>:75(_path_stat)\n",
            "        3    0.000    0.000    0.000    0.000 <frozen importlib._bootstrap_external>:800(__init__)\n",
            "        3    0.000    0.000    0.000    0.000 <frozen importlib._bootstrap_external>:825(get_filename)\n",
            "        3    0.000    0.000    0.000    0.000 <frozen importlib._bootstrap_external>:830(get_data)\n",
            "        3    0.000    0.000    0.000    0.000 <frozen importlib._bootstrap_external>:840(path_stats)\n",
            "        3    0.000    0.000    0.000    0.000 <frozen importlib._bootstrap_external>:85(_path_is_mode_type)\n",
            "        3    0.000    0.000    0.000    0.000 <frozen importlib._bootstrap_external>:94(_path_isfile)\n",
            "        1    0.000    0.000  181.691  181.691 <ipython-input-16-d5c824ea58a6>:50(<module>)\n",
            "        1    0.000    0.000    0.000    0.000 <ipython-input-16-d5c824ea58a6>:62(<module>)\n",
            "      664    0.001    0.000    0.002    0.000 <string>:12(__new__)\n",
            "     2254    0.004    0.000    0.006    0.000 _VF.py:11(__getattr__)\n",
            "       93    0.000    0.000    0.000    0.000 __future__.py:18(get_overwrite_module_params_on_conversion)\n",
            "        4    0.000    0.000    0.000    0.000 __init__.py:124(_lazy_init)\n",
            "        1    0.000    0.000    0.000    0.000 __init__.py:13(flags_frozen)\n",
            "      644    0.001    0.000    0.001    0.000 __init__.py:167(is_tensor)\n",
            "     8648    0.001    0.000    0.001    0.000 __init__.py:176(is_storage)\n",
            "    25116    0.006    0.000    0.006    0.000 __init__.py:1917(is_scripting)\n",
            "     1610    0.000    0.000    0.000    0.000 __init__.py:2082(annotate)\n",
            "      314    0.004    0.000    0.016    0.000 __init__.py:21(_make_grads)\n",
            "     7406    0.007    0.000    0.012    0.000 __init__.py:31(__get__)\n",
            "        1    0.000    0.000    0.000    0.000 __init__.py:320(device_count)\n",
            "        4    0.000    0.000    0.000    0.000 __init__.py:328(current_device)\n",
            "        6    0.000    0.000    0.000    0.000 __init__.py:33(is_available)\n",
            "        1    0.000    0.000    0.000    0.000 __init__.py:34(__set__)\n",
            "      314    0.003    0.000    3.912    0.012 __init__.py:45(backward)\n",
            "        5    0.000    0.000    0.000    0.000 __init__.py:92(is_initialized)\n",
            "        1    0.000    0.000    0.000    0.000 __init__.py:97(_lazy_call)\n",
            "        3    0.000    0.000    0.000    0.000 _altair.py:25(find_module)\n",
            "        3    0.000    0.000    0.000    0.000 _bokeh.py:36(find_module)\n",
            "        3    0.000    0.000    0.000    0.000 _cv2.py:70(find_module)\n",
            "     1932    0.005    0.000    0.270    0.000 _jit_internal.py:199(fn)\n",
            "        4    0.000    0.000    0.001    0.000 _monitor.py:32(__init__)\n",
            "        4    0.000    0.000    0.001    0.000 _monitor.py:50(exit)\n",
            "        4    0.000    0.000    0.000    0.000 _monitor.py:98(report)\n",
            "      362    0.000    0.000    0.000    0.000 _namedtensor_internals.py:11(check_serializing_named_tensor)\n",
            "      966    0.001    0.000    0.001    0.000 _reduction.py:6(get_enum)\n",
            "        4    0.000    0.000    0.000    0.000 _weakrefset.py:106(remove)\n",
            "        8    0.000    0.000    0.000    0.000 _weakrefset.py:16(__init__)\n",
            "        8    0.000    0.000    0.000    0.000 _weakrefset.py:20(__enter__)\n",
            "        8    0.000    0.000    0.000    0.000 _weakrefset.py:26(__exit__)\n",
            "        4    0.000    0.000    0.000    0.000 _weakrefset.py:36(__init__)\n",
            "       40    0.000    0.000    0.000    0.000 _weakrefset.py:38(_remove)\n",
            "        8    0.000    0.000    0.000    0.000 _weakrefset.py:52(_commit_removals)\n",
            "       12    0.000    0.000    0.000    0.000 _weakrefset.py:58(__iter__)\n",
            "        4    0.000    0.000    0.000    0.000 _weakrefset.py:67(__len__)\n",
            "       64    0.000    0.000    0.000    0.000 _weakrefset.py:81(add)\n",
            "        1    0.000    0.000    0.000    0.000 abc.py:132(__new__)\n",
            "        1    0.000    0.000    0.000    0.000 abc.py:135(<setcomp>)\n",
            "     7084    0.014    0.000    0.433    0.000 activation.py:93(forward)\n",
            "     7406    0.008    0.000    0.013    0.000 batchnorm.py:247(_check_input_dim)\n",
            "     7406    0.642    0.000    2.011    0.000 batchnorm.py:83(forward)\n",
            "        2    0.000    0.000    0.000    0.000 codeop.py:132(__call__)\n",
            "       56    0.001    0.000    0.001    0.000 connection.py:117(__init__)\n",
            "       40    0.000    0.000    0.000    0.000 connection.py:130(__del__)\n",
            "       28    0.000    0.000    0.001    0.000 connection.py:173(close)\n",
            "       28    0.000    0.000    0.001    0.000 connection.py:360(_close)\n",
            "       28    0.001    0.000    0.004    0.000 connection.py:501(Pipe)\n",
            "     5152    0.008    0.000    0.012    0.000 container.py:94(__iter__)\n",
            "5152/3542    0.080    0.000    4.966    0.001 container.py:98(forward)\n",
            "      108    0.000    0.000    0.000    0.000 context.py:186(get_context)\n",
            "      105    0.000    0.000    0.000    0.000 context.py:196(get_start_method)\n",
            "       24    0.001    0.000    0.991    0.041 context.py:221(_Popen)\n",
            "       57    0.000    0.000    0.000    0.000 context.py:232(get_context)\n",
            "       24    0.001    0.000    0.990    0.041 context.py:274(_Popen)\n",
            "       60    0.001    0.000    0.019    0.000 context.py:64(Lock)\n",
            "        1    0.000    0.000    0.001    0.001 context.py:69(RLock)\n",
            "        4    0.000    0.000    0.001    0.000 context.py:74(Condition)\n",
            "       16    0.000    0.000    0.001    0.000 context.py:79(Semaphore)\n",
            "       28    0.000    0.000    0.004    0.000 context.py:84(BoundedSemaphore)\n",
            "        4    0.000    0.000    0.002    0.000 context.py:89(Event)\n",
            "       28    0.003    0.000    0.037    0.001 context.py:99(Queue)\n",
            "     7728    0.039    0.000    2.048    0.000 conv.py:340(_conv_forward)\n",
            "     7728    0.025    0.000    2.087    0.000 conv.py:348(forward)\n",
            "        4    0.000    0.000    0.000    0.000 dataloader.py:236(multiprocessing_context)\n",
            "        4    0.000    0.000    1.311    0.328 dataloader.py:275(__iter__)\n",
            "       20    0.000    0.000    0.000    0.000 dataloader.py:281(_auto_collation)\n",
            "       16    0.000    0.000    0.000    0.000 dataloader.py:285(_index_sampler)\n",
            "       12    0.000    0.000    0.000    0.000 dataloader.py:297(__len__)\n",
            "        4    0.000    0.000    0.004    0.001 dataloader.py:320(__init__)\n",
            "      370    0.001    0.000    0.011    0.000 dataloader.py:338(_next_index)\n",
            "      326    0.001    0.000    7.301    0.022 dataloader.py:344(__next__)\n",
            "        4    0.006    0.002    1.311    0.328 dataloader.py:672(__init__)\n",
            "       28    0.000    0.000    0.000    0.000 dataloader.py:740(<genexpr>)\n",
            "      322    0.001    0.000    6.509    0.020 dataloader.py:748(_try_get_data)\n",
            "      322    0.002    0.000    6.512    0.020 dataloader.py:779(_get_data)\n",
            "      326    0.005    0.000    7.300    0.022 dataloader.py:812(_next_data)\n",
            "      370    0.005    0.000    0.281    0.001 dataloader.py:858(_try_put_index)\n",
            "      322    0.001    0.000    0.024    0.000 dataloader.py:877(_process_data)\n",
            "       24    0.000    0.000    0.059    0.002 dataloader.py:884(_shutdown_worker)\n",
            "        8    0.000    0.000    0.759    0.095 dataloader.py:907(_shutdown_workers)\n",
            "        4    0.000    0.000    0.000    0.000 dataloader.py:961(__del__)\n",
            "        2    0.000    0.000    0.000    0.000 enum.py:267(__call__)\n",
            "        2    0.000    0.000    0.000    0.000 enum.py:517(__new__)\n",
            "      664    0.005    0.000    0.034    0.000 file_stream.py:256(push)\n",
            "        1    0.000    0.000    0.000    0.000 fileutils.py:72(generate_model_save_path)\n",
            "     1610    0.001    0.000    0.001    0.000 filter.py:14(<listcomp>)\n",
            "     1610    0.039    0.000    0.429    0.000 filter.py:23(filter2D)\n",
            "     1610    0.005    0.000    0.007    0.000 filter.py:9(compute_padding)\n",
            "       16    0.000    0.000    0.000    0.000 frame.py:1037(__len__)\n",
            "     7406    0.028    0.000    0.440    0.000 functional.py:1050(relu)\n",
            "     7222    0.028    0.000    0.029    0.000 functional.py:1887(_verify_batch_size)\n",
            "     7406    0.058    0.000    1.235    0.000 functional.py:1905(batch_norm)\n",
            "      322    0.005    0.000    0.063    0.000 functional.py:2485(l1_loss)\n",
            "      322    0.001    0.000    0.001    0.000 functional.py:2495(<listcomp>)\n",
            "      644    0.008    0.000    0.090    0.000 functional.py:2516(mse_loss)\n",
            "      644    0.001    0.000    0.001    0.000 functional.py:2526(<listcomp>)\n",
            "     1610    0.017    0.000    0.039    0.000 functional.py:2819(_interp_output_size)\n",
            "     1610    0.001    0.000    0.001    0.000 functional.py:2841(<listcomp>)\n",
            "     1610    0.008    0.000    0.015    0.000 functional.py:2865(<listcomp>)\n",
            "     1610    0.032    0.000    0.335    0.000 functional.py:2887(interpolate)\n",
            "     1610    0.001    0.000    0.001    0.000 functional.py:2977(<listcomp>)\n",
            "      966    0.008    0.000    0.021    0.000 functional.py:33(broadcast_tensors)\n",
            "     2898    0.025    0.000    0.288    0.000 functional.py:3327(_pad)\n",
            "     1932    0.009    0.000    0.264    0.000 functional.py:527(_max_pool2d)\n",
            "     2898    0.001    0.000    0.001    0.000 functional.py:60(<genexpr>)\n",
            "      322    0.009    0.000    0.018    0.000 functional.py:65(split)\n",
            "      314    0.003    0.000    0.372    0.001 grad_mode.py:12(decorate_context)\n",
            "      409    0.001    0.000    0.001    0.000 grad_mode.py:151(__init__)\n",
            "      409    0.002    0.000    0.003    0.000 grad_mode.py:65(__enter__)\n",
            "      409    0.001    0.000    0.003    0.000 grad_mode.py:69(__exit__)\n",
            "        2    0.000    0.000    0.000    0.000 hooks.py:139(__call__)\n",
            "        2    0.000    0.000    0.000    0.000 hooks.py:204(pre_run_code_hook)\n",
            "      362    0.000    0.000    0.000    0.000 hooks.py:51(warn_if_has_hooks)\n",
            "        2    0.000    0.000    0.000    0.000 interactiveshell.py:1067(user_global_ns)\n",
            "        2    0.000    0.000  181.691   90.845 interactiveshell.py:2852(run_code)\n",
            "      694    0.008    0.000    0.317    0.000 io_wrap.py:75(write)\n",
            "     2745    0.019    0.000    1.494    0.001 iostream.py:195(schedule)\n",
            "      694    0.002    0.000    0.004    0.000 iostream.py:307(_is_master_process)\n",
            "      694    0.002    0.000    0.089    0.000 iostream.py:320(_schedule_flush)\n",
            "      698    0.011    0.000    1.566    0.002 iostream.py:334(flush)\n",
            "      694    0.008    0.000    0.217    0.000 iostream.py:382(write)\n",
            "     2745    0.006    0.000    0.006    0.000 iostream.py:93(_event_pipe)\n",
            "        2    0.000    0.000    0.000    0.000 ipstruct.py:125(__getattr__)\n",
            "      644    0.054    0.000    0.163    0.000 kernels.py:19(gaussian)\n",
            "      644    0.002    0.000    0.165    0.000 kernels.py:294(get_gaussian_kernel1d)\n",
            "      322    0.003    0.000    0.184    0.001 kernels.py:329(get_gaussian_kernel2d)\n",
            "      644    0.002    0.000    0.050    0.000 loss.py:428(__init__)\n",
            "      644    0.002    0.000    0.091    0.000 loss.py:431(forward)\n",
            "      322    0.002    0.000    0.022    0.000 loss.py:84(__init__)\n",
            "      322    0.001    0.000    0.064    0.000 loss.py:87(forward)\n",
            "      966    0.003    0.000    0.068    0.000 loss.py:9(__init__)\n",
            "      314    0.003    0.000    0.375    0.001 lr_scheduler.py:62(wrapper)\n",
            "       16    0.000    0.000    0.001    0.000 mmddataloader.py:272(__len__)\n",
            "      644    0.194    0.000   45.075    0.070 mmdlosses.py:20(construct_criterion)\n",
            "      322    0.003    0.000    0.353    0.001 mmdlosses.py:35(LocalFocalLoss)\n",
            "      322    0.022    0.000    0.109    0.000 mmdlosses.py:38(LocalPixelLoss)\n",
            "      322    0.003    0.000    0.094    0.000 mmdlosses.py:47(LocalL1Loss)\n",
            "      322    0.003    0.000    0.104    0.000 mmdlosses.py:50(LocalRMSELoss)\n",
            "      322    0.002    0.000   44.001    0.137 mmdlosses.py:59(LocalSSIMLoss)\n",
            "      322    0.101    0.000    0.218    0.001 mmdlosses.py:63(dice_loss)\n",
            "      322    0.001    0.000    0.017    0.000 mmdlosses.py:76(__init__)\n",
            "      322    0.191    0.001    0.328    0.001 mmdlosses.py:80(forward)\n",
            "      322    0.015    0.000    4.562    0.014 mmdmodels.py:105(forward)\n",
            "      322    0.013    0.000    6.239    0.019 mmdmodels.py:169(forward)\n",
            "     3542    0.014    0.000    4.697    0.001 mmdmodels.py:30(forward)\n",
            "     1610    0.005    0.000    2.334    0.001 mmdmodels.py:44(forward)\n",
            "     1288    0.041    0.000    2.347    0.002 mmdmodels.py:63(forward)\n",
            "      322    0.001    0.000    0.087    0.000 mmdmodels.py:83(forward)\n",
            "        2    0.128    0.064  177.648   88.824 mmdtraintest.py:114(train_batch)\n",
            "        2    0.001    0.001    3.561    1.780 mmdtraintest.py:172(test_batch)\n",
            "        1    0.036    0.036  181.691  181.691 mmdtraintest.py:216(execute_model)\n",
            "    476/4    0.001    0.000    0.003    0.001 module.py:1055(train)\n",
            "        2    0.000    0.000    0.001    0.001 module.py:1075(eval)\n",
            "    119/1    0.001    0.000    0.003    0.003 module.py:201(_apply)\n",
            "       93    0.000    0.000    0.001    0.000 module.py:205(compute_should_use_set_data)\n",
            "        1    0.000    0.000    0.003    0.003 module.py:360(to)\n",
            "      162    0.000    0.000    0.001    0.000 module.py:438(convert)\n",
            "39928/1932    0.363    0.000   50.510    0.026 module.py:540(__call__)\n",
            "    73048    0.113    0.000    0.113    0.000 module.py:580(__getattr__)\n",
            "    26052    0.129    0.000    0.162    0.000 module.py:596(__setattr__)\n",
            "      238    0.001    0.000    0.002    0.000 module.py:661(_save_to_state_dict)\n",
            "    238/2    0.001    0.000    0.003    0.001 module.py:681(state_dict)\n",
            "     1610    0.032    0.000    0.094    0.000 module.py:71(__init__)\n",
            "     1185    0.000    0.000    0.001    0.000 module.py:961(children)\n",
            "     1185    0.001    0.000    0.001    0.000 module.py:970(named_children)\n",
            "      314    0.020    0.000    0.456    0.001 optimizer.py:159(zero_grad)\n",
            "        2    0.000    0.000    0.000    0.000 optimizer.py:74(state_dict)\n",
            "        2    0.000    0.000    0.000    0.000 optimizer.py:84(pack_group)\n",
            "        2    0.000    0.000    0.000    0.000 optimizer.py:85(<dictcomp>)\n",
            "        2    0.000    0.000    0.000    0.000 optimizer.py:86(<listcomp>)\n",
            "        2    0.000    0.000    0.000    0.000 optimizer.py:88(<listcomp>)\n",
            "        2    0.000    0.000    0.000    0.000 optimizer.py:90(<dictcomp>)\n",
            "        4    0.000    0.000    0.000    0.000 os.py:664(__getitem__)\n",
            "        4    0.000    0.000    0.000    0.000 os.py:742(encode)\n",
            "     1932    0.008    0.000    0.278    0.000 pooling.py:138(forward)\n",
            "        1    0.000    0.000    0.000    0.000 popen_fork.py:1(<module>)\n",
            "        1    0.000    0.000    0.000    0.000 popen_fork.py:13(Popen)\n",
            "       24    0.001    0.000    0.989    0.041 popen_fork.py:16(__init__)\n",
            "       92    0.001    0.000    0.691    0.008 popen_fork.py:24(poll)\n",
            "       24    0.000    0.000    0.690    0.029 popen_fork.py:43(wait)\n",
            "       24    0.004    0.000    0.957    0.040 popen_fork.py:63(_launch)\n",
            "        1    0.000    0.000    0.000    0.000 posixpath.py:41(_get_sep)\n",
            "        1    0.000    0.000    0.000    0.000 posixpath.py:75(join)\n",
            "       24    0.000    0.000    0.690    0.029 process.py:118(join)\n",
            "       24    0.000    0.000    0.000    0.000 process.py:162(daemon)\n",
            "       24    0.000    0.000    0.000    0.000 process.py:190(ident)\n",
            "      105    0.000    0.000    0.000    0.000 process.py:35(current_process)\n",
            "       24    0.000    0.000    0.001    0.000 process.py:52(_cleanup)\n",
            "       24    0.001    0.000    0.001    0.000 process.py:71(__init__)\n",
            "       48    0.000    0.000    0.000    0.000 process.py:83(<genexpr>)\n",
            "       24    0.002    0.000    0.994    0.041 process.py:95(start)\n",
            "      664    0.008    0.000    0.027    0.000 queue.py:115(put)\n",
            "      322    0.002    0.000    6.508    0.020 queue.py:147(get)\n",
            "        4    0.000    0.000    0.000    0.000 queue.py:199(_init)\n",
            "      336    0.000    0.000    0.000    0.000 queue.py:202(_qsize)\n",
            "      664    0.001    0.000    0.001    0.000 queue.py:206(_put)\n",
            "      322    0.000    0.000    0.000    0.000 queue.py:210(_get)\n",
            "        4    0.000    0.000    0.000    0.000 queue.py:27(__init__)\n",
            "        1    0.000    0.000    0.000    0.000 queues.py:10(<module>)\n",
            "       28    0.000    0.000    0.001    0.000 queues.py:131(close)\n",
            "       28    0.000    0.000    0.000    0.000 queues.py:147(cancel_join_thread)\n",
            "       28    0.001    0.000    0.259    0.009 queues.py:155(_start_thread)\n",
            "       28    0.000    0.000    0.000    0.000 queues.py:196(_finalize_close)\n",
            "        1    0.000    0.000    0.000    0.000 queues.py:269(JoinableQueue)\n",
            "        1    0.000    0.000    0.000    0.000 queues.py:311(SimpleQueue)\n",
            "        1    0.000    0.000    0.000    0.000 queues.py:34(Queue)\n",
            "       28    0.003    0.000    0.031    0.001 queues.py:36(__init__)\n",
            "       28    0.001    0.000    0.001    0.000 queues.py:67(_after_fork)\n",
            "      350    0.003    0.000    0.327    0.001 queues.py:80(put)\n",
            "        1    0.000    0.000    0.000    0.000 random.py:106(cb)\n",
            "        1    0.000    0.000    0.000    0.000 random.py:21(manual_seed)\n",
            "      840    0.001    0.000    0.002    0.000 random.py:223(_randbelow)\n",
            "      840    0.002    0.000    0.004    0.000 random.py:255(choice)\n",
            "        1    0.000    0.000    0.000    0.000 random.py:87(__init__)\n",
            "        1    0.000    0.000    0.000    0.000 random.py:96(manual_seed_all)\n",
            "        1    0.000    0.000    0.000    0.000 random.py:96(seed)\n",
            "       16    0.000    0.000    0.000    0.000 range.py:675(__len__)\n",
            "      326    0.007    0.000    0.010    0.000 sampler.py:198(__iter__)\n",
            "       12    0.000    0.000    0.000    0.000 sampler.py:208(__len__)\n",
            "        4    0.000    0.000    0.001    0.000 sampler.py:61(__iter__)\n",
            "       12    0.000    0.000    0.000    0.000 sampler.py:64(__len__)\n",
            "      362    0.000    0.000    0.000    0.000 serialization.py:119(_cpu_tag)\n",
            "      362    0.000    0.000    0.000    0.000 serialization.py:124(_cuda_tag)\n",
            "      362    0.000    0.000    0.001    0.000 serialization.py:167(location_tag)\n",
            "      362    0.000    0.000    0.000    0.000 serialization.py:186(normalize_storage_type)\n",
            "        2    0.000    0.000    0.000    0.000 serialization.py:196(_is_path)\n",
            "        2    0.000    0.000    0.000    0.000 serialization.py:203(__init__)\n",
            "        2    0.000    0.000    0.000    0.000 serialization.py:206(__enter__)\n",
            "        2    0.000    0.000    0.017    0.009 serialization.py:214(__init__)\n",
            "        2    0.000    0.000    0.007    0.003 serialization.py:217(__exit__)\n",
            "        2    0.000    0.000    0.017    0.009 serialization.py:232(_open_file_like)\n",
            "      362    0.001    0.000    0.001    0.000 serialization.py:275(_is_compressed_file)\n",
            "      362    0.000    0.000    0.002    0.000 serialization.py:283(_should_read_directly)\n",
            "        2    0.000    0.000    0.000    0.000 serialization.py:316(_check_dill_version)\n",
            "        2    0.000    0.000    0.435    0.218 serialization.py:335(save)\n",
            "        2    0.004    0.002    0.410    0.205 serialization.py:373(_legacy_save)\n",
            "     8648    0.004    0.000    0.007    0.000 serialization.py:386(persistent_id)\n",
            "      314    0.042    0.000    0.364    0.001 sgd.py:75(step)\n",
            "        2    0.000    0.000    0.000    0.000 signal.py:25(_int_to_enum)\n",
            "        2    0.000    0.000    0.000    0.000 signal.py:35(_enum_to_int)\n",
            "        1    0.000    0.000    0.000    0.000 signal.py:45(signal)\n",
            "        1    0.000    0.000    0.000    0.000 signal.py:51(getsignal)\n",
            "        4    0.000    0.000    0.000    0.000 signal_handling.py:47(_set_SIGCHLD_handler)\n",
            "       24    0.000    0.000    0.000    0.000 signal_handling.py:63(handler)\n",
            "     3984    0.002    0.000    0.005    0.000 six.py:625(b)\n",
            "     2745    1.452    0.001    1.452    0.001 socket.py:342(send)\n",
            "      322    0.000    0.000    0.000    0.000 ssim.py:10(_compute_zero_padding)\n",
            "      322    0.004    0.000   44.000    0.137 ssim.py:152(ssim)\n",
            "      322    0.007    0.000    0.232    0.001 ssim.py:63(__init__)\n",
            "      322    0.275    0.001   43.755    0.136 ssim.py:82(forward)\n",
            "        1    0.000    0.000    0.001    0.001 std.py:101(create_mp_lock)\n",
            "        4    0.000    0.000    0.000    0.000 std.py:1061(__del__)\n",
            "      650    0.005    0.000    0.084    0.000 std.py:1064(__repr__)\n",
            "        8    0.000    0.000    0.000    0.000 std.py:1067(_comparable)\n",
            "        8    0.000    0.000    0.000    0.000 std.py:1071(__hash__)\n",
            "      326    0.008    0.000    9.412    0.029 std.py:1074(__iter__)\n",
            "        1    0.000    0.000    0.000    0.000 std.py:112(create_th_lock)\n",
            "       12    0.000    0.000    0.015    0.001 std.py:1235(close)\n",
            "        8    0.000    0.000    0.001    0.000 std.py:1252(fp_write)\n",
            "      646    0.006    0.000    1.959    0.003 std.py:1289(refresh)\n",
            "      322    0.003    0.000    1.184    0.004 std.py:1338(set_description)\n",
            "      650    0.010    0.000    0.011    0.000 std.py:1402(format_dict)\n",
            "      650    0.005    0.000    1.948    0.003 std.py:1417(display)\n",
            "      650    0.002    0.000    0.002    0.000 std.py:145(__init__)\n",
            "      650    0.004    0.000    0.004    0.000 std.py:154(__format__)\n",
            "     1292    0.004    0.000    0.010    0.000 std.py:227(format_interval)\n",
            "      640    0.002    0.000    0.002    0.000 std.py:268(ema)\n",
            "        4    0.000    0.000    0.000    0.000 std.py:287(status_printer)\n",
            "      650    0.006    0.000    1.853    0.003 std.py:297(fp_write)\n",
            "      650    0.004    0.000    1.858    0.003 std.py:303(print_status)\n",
            "      650    0.029    0.000    0.068    0.000 std.py:310(format_meter)\n",
            "        4    0.000    0.000    0.002    0.000 std.py:511(__new__)\n",
            "        4    0.000    0.000    0.000    0.000 std.py:533(_get_free_pos)\n",
            "        4    0.000    0.000    0.000    0.000 std.py:536(<genexpr>)\n",
            "        4    0.000    0.000    0.001    0.000 std.py:540(_decr_instances)\n",
            "        4    0.000    0.000    0.001    0.000 std.py:613(get_lock)\n",
            "        4    0.000    0.000    0.004    0.001 std.py:784(__init__)\n",
            "        1    0.000    0.000    0.001    0.001 std.py:79(__init__)\n",
            "        1    0.000    0.000    0.000    0.000 std.py:85(<listcomp>)\n",
            "      662    0.003    0.000    0.013    0.000 std.py:87(acquire)\n",
            "      662    0.003    0.000    0.004    0.000 std.py:91(release)\n",
            "       16    0.000    0.000    0.000    0.000 std.py:95(__enter__)\n",
            "       16    0.000    0.000    0.000    0.000 std.py:98(__exit__)\n",
            "      694    0.011    0.000    0.090    0.000 streaming_log.py:109(write)\n",
            "      694    0.016    0.000    0.037    0.000 streaming_log.py:30(add_string)\n",
            "      664    0.002    0.000    0.006    0.000 streaming_log.py:75(_finish_line)\n",
            "        1    0.000    0.000    0.000    0.000 synchronize.py:11(<module>)\n",
            "      105    0.001    0.000    0.010    0.000 synchronize.py:114(_make_name)\n",
            "        1    0.000    0.000    0.000    0.000 synchronize.py:123(Semaphore)\n",
            "       16    0.000    0.000    0.001    0.000 synchronize.py:125(__init__)\n",
            "        1    0.000    0.000    0.000    0.000 synchronize.py:142(BoundedSemaphore)\n",
            "       28    0.000    0.000    0.003    0.000 synchronize.py:144(__init__)\n",
            "        1    0.000    0.000    0.000    0.000 synchronize.py:159(Lock)\n",
            "       60    0.001    0.000    0.018    0.000 synchronize.py:161(__init__)\n",
            "        1    0.000    0.000    0.000    0.000 synchronize.py:184(RLock)\n",
            "        1    0.000    0.000    0.000    0.000 synchronize.py:186(__init__)\n",
            "        1    0.000    0.000    0.000    0.000 synchronize.py:210(Condition)\n",
            "        4    0.000    0.000    0.001    0.000 synchronize.py:212(__init__)\n",
            "        4    0.000    0.000    0.000    0.000 synchronize.py:229(__enter__)\n",
            "        4    0.000    0.000    0.000    0.000 synchronize.py:232(__exit__)\n",
            "        4    0.000    0.000    0.000    0.000 synchronize.py:235(_make_methods)\n",
            "        4    0.000    0.000    0.000    0.000 synchronize.py:287(notify_all)\n",
            "        1    0.000    0.000    0.000    0.000 synchronize.py:332(Event)\n",
            "        4    0.000    0.000    0.002    0.000 synchronize.py:334(__init__)\n",
            "        4    0.000    0.000    0.000    0.000 synchronize.py:345(set)\n",
            "        1    0.000    0.000    0.000    0.000 synchronize.py:371(Barrier)\n",
            "        1    0.000    0.000    0.000    0.000 synchronize.py:46(SemLock)\n",
            "      105    0.008    0.000    0.022    0.000 synchronize.py:50(__init__)\n",
            "      105    0.000    0.000    0.000    0.000 synchronize.py:90(_make_methods)\n",
            "        4    0.000    0.000    0.000    0.000 synchronize.py:94(__enter__)\n",
            "        4    0.000    0.000    0.000    0.000 synchronize.py:97(__exit__)\n",
            "      105    0.000    0.000    0.001    0.000 tempfile.py:285(rng)\n",
            "      105    0.002    0.000    0.008    0.000 tempfile.py:296(__next__)\n",
            "      105    0.001    0.000    0.005    0.000 tempfile.py:299(<listcomp>)\n",
            "      314    0.003    0.000    3.915    0.012 tensor.py:170(backward)\n",
            "      322    0.002    0.000    0.009    0.000 tensor.py:374(split)\n",
            "      322    0.001    0.000    0.020    0.000 tensor.py:402(__rsub__)\n",
            "      966    0.005    0.000  113.715    0.118 tensor.py:416(__format__)\n",
            "     5985    0.003    0.000    0.004    0.000 tensor.py:470(__hash__)\n",
            "    29885    0.036    0.000    0.056    0.000 tensor.py:737(grad)\n",
            "      362    0.002    0.000    0.003    0.000 tensor.py:78(__reduce_ex__)\n",
            "        8    0.000    0.000    0.005    0.001 threading.py:1024(join)\n",
            "     3773    0.005    0.000    0.014    0.000 threading.py:1062(_wait_for_tstate_lock)\n",
            "     3765    0.011    0.000    0.022    0.000 threading.py:1104(is_alive)\n",
            "       36    0.000    0.000    0.000    0.000 threading.py:1120(daemon)\n",
            "       36    0.000    0.000    0.000    0.000 threading.py:1136(daemon)\n",
            "       52    0.000    0.000    0.000    0.000 threading.py:1230(current_thread)\n",
            "      782    0.008    0.000    0.008    0.000 threading.py:215(__init__)\n",
            "     2106    0.003    0.000    0.004    0.000 threading.py:239(__enter__)\n",
            "     2106    0.002    0.000    0.002    0.000 threading.py:242(__exit__)\n",
            "      212    0.000    0.000    0.000    0.000 threading.py:248(_release_save)\n",
            "      212    0.000    0.000    0.001    0.000 threading.py:251(_acquire_restore)\n",
            "     1584    0.001    0.000    0.002    0.000 threading.py:254(_is_owned)\n",
            "      212    0.002    0.000    7.005    0.033 threading.py:263(wait)\n",
            "     1372    0.008    0.000    0.023    0.000 threading.py:334(notify)\n",
            "        8    0.000    0.000    0.000    0.000 threading.py:357(notify_all)\n",
            "      742    0.004    0.000    0.012    0.000 threading.py:498(__init__)\n",
            "     3849    0.002    0.000    0.002    0.000 threading.py:506(is_set)\n",
            "        8    0.000    0.000    0.000    0.000 threading.py:512(set)\n",
            "      734    0.003    0.000    0.507    0.001 threading.py:533(wait)\n",
            "        8    0.000    0.000    0.000    0.000 threading.py:727(_newname)\n",
            "       36    0.001    0.000    0.002    0.000 threading.py:757(__init__)\n",
            "       36    0.000    0.000    0.262    0.007 threading.py:828(start)\n",
            "        8    0.000    0.000    0.000    0.000 threading.py:966(_stop)\n",
            "        1    0.000    0.000    0.000    0.000 typing.py:1025(_abc_negative_cache)\n",
            "        1    0.000    0.000    0.000    0.000 typing.py:1039(_abc_negative_cache_version)\n",
            "        1    0.000    0.000    0.000    0.000 typing.py:1083(_subs_tree)\n",
            "        4    0.000    0.000    0.000    0.000 typing.py:1089(__eq__)\n",
            "     1611    0.001    0.000    0.001    0.000 typing.py:1096(__hash__)\n",
            "        1    0.000    0.000    0.011    0.011 typing.py:1099(__getitem__)\n",
            "        2    0.000    0.000    0.000    0.000 typing.py:1107(<genexpr>)\n",
            "       13    0.000    0.000    0.000    0.000 typing.py:1164(__setattr__)\n",
            "        1    0.000    0.000    0.000    0.000 typing.py:133(__new__)\n",
            "        1    0.000    0.000    0.000    0.000 typing.py:139(__init__)\n",
            "        1    0.000    0.000    0.000    0.000 typing.py:336(_get_type_vars)\n",
            "        1    0.000    0.000    0.000    0.000 typing.py:342(_type_vars)\n",
            "        1    0.000    0.000    0.000    0.000 typing.py:354(_type_check)\n",
            "      3/1    0.000    0.000    0.000    0.000 typing.py:553(_replace_arg)\n",
            "      2/1    0.000    0.000    0.000    0.000 typing.py:580(_subs_tree)\n",
            "        1    0.000    0.000    0.000    0.000 typing.py:613(_remove_dups_flatten)\n",
            "        4    0.000    0.000    0.000    0.000 typing.py:646(<genexpr>)\n",
            "        3    0.000    0.000    0.000    0.000 typing.py:651(<genexpr>)\n",
            "        1    0.000    0.000    0.000    0.000 typing.py:654(_check_generic)\n",
            "     3220    0.010    0.000    0.023    0.000 typing.py:676(inner)\n",
            "        1    0.000    0.000    0.000    0.000 typing.py:769(_get_type_vars)\n",
            "        1    0.000    0.000    0.000    0.000 typing.py:805(_subs_tree)\n",
            "     1611    0.001    0.000    0.001    0.000 typing.py:822(__hash__)\n",
            "        1    0.000    0.000    0.000    0.000 typing.py:852(_next_in_mro)\n",
            "        1    0.000    0.000    0.000    0.000 typing.py:866(_make_subclasshook)\n",
            "        1    0.000    0.000    0.000    0.000 typing.py:896(_no_slots_copy)\n",
            "        1    0.000    0.000    0.011    0.011 typing.py:922(__new__)\n",
            "        1    0.000    0.000    0.000    0.000 typing.py:931(<genexpr>)\n",
            "        4    0.000    0.000    0.000    0.000 typing.py:971(<genexpr>)\n",
            "        2    0.000    0.000    0.000    0.000 typing.py:974(<genexpr>)\n",
            "        4    0.000    0.000    0.000    0.000 typing.py:975(<genexpr>)\n",
            "        2    0.010    0.005    0.010    0.005 typing.py:984(<genexpr>)\n",
            "     1610    0.007    0.000    0.342    0.000 upsampling.py:130(forward)\n",
            "      133    0.001    0.000    0.004    0.000 util.py:136(register_after_fork)\n",
            "       80    0.003    0.000    0.003    0.000 util.py:151(__init__)\n",
            "       52    0.000    0.000    0.002    0.000 util.py:167(__call__)\n",
            "       28    0.000    0.000    0.000    0.000 util.py:191(cancel)\n",
            "       24    0.001    0.000    0.031    0.001 util.py:395(_flush_std_streams)\n",
            "       52    0.000    0.000    0.000    0.000 util.py:44(sub_debug)\n",
            "      273    0.000    0.000    0.000    0.000 util.py:48(debug)\n",
            "      650    0.001    0.000    0.001    0.000 utils.py:135(__init__)\n",
            "      650    0.001    0.000    0.001    0.000 utils.py:139(__format__)\n",
            "        4    0.000    0.000    0.000    0.000 utils.py:152(__eq__)\n",
            "        4    0.000    0.000    0.000    0.000 utils.py:233(_is_utf)\n",
            "        4    0.000    0.000    0.000    0.000 utils.py:247(_supports_unicode)\n",
            "     1300    0.007    0.000    0.009    0.000 utils.py:254(_is_ascii)\n",
            "        4    0.000    0.000    0.000    0.000 utils.py:263(_environ_cols_wrapper)\n",
            "        4    0.000    0.000    0.000    0.000 utils.py:315(_environ_cols_linux)\n",
            "        6    0.000    0.000    0.000    0.000 wandb_config.py:223(__getitem__)\n",
            "        6    0.000    0.000    0.000    0.000 wandb_config.py:233(__getattr__)\n",
            "      116    0.000    0.000    0.000    0.000 weakref.py:109(remove)\n",
            "      133    0.002    0.000    0.003    0.000 weakref.py:165(__setitem__)\n",
            "      133    0.000    0.000    0.000    0.000 weakref.py:334(__new__)\n",
            "      133    0.001    0.000    0.001    0.000 weakref.py:339(__init__)\n",
            "      802    0.001    0.000    0.001    0.000 {built-in method __new__ of type object at 0x9d12c0}\n",
            "       93    0.000    0.000    0.000    0.000 {built-in method _has_compatible_shallow_copy_type}\n",
            "        3    0.000    0.000    0.000    0.000 {built-in method _imp._fix_co_filename}\n",
            "       24    0.000    0.000    0.000    0.000 {built-in method _imp.acquire_lock}\n",
            "        3    0.000    0.000    0.000    0.000 {built-in method _imp.is_frozen}\n",
            "      698    0.000    0.000    0.000    0.000 {built-in method _imp.lock_held}\n",
            "       24    0.000    0.000    0.000    0.000 {built-in method _imp.release_lock}\n",
            "        8    0.000    0.000    0.000    0.000 {built-in method _pickle.dump}\n",
            "        1    0.000    0.000    0.000    0.000 {built-in method _signal.getsignal}\n",
            "        1    0.000    0.000    0.000    0.000 {built-in method _signal.signal}\n",
            "      992    0.001    0.000    0.001    0.000 {built-in method _thread.allocate_lock}\n",
            "       58    0.000    0.000    0.000    0.000 {built-in method _thread.get_ident}\n",
            "       36    0.004    0.000    0.004    0.000 {built-in method _thread.start_new_thread}\n",
            "      116    0.000    0.000    0.000    0.000 {built-in method _weakref._remove_dead_weakref}\n",
            "      644    0.034    0.000    0.034    0.000 {built-in method arange}\n",
            "        4    0.000    0.000    0.000    0.000 {built-in method atexit.register}\n",
            "     7406    1.117    0.000    1.117    0.000 {built-in method batch_norm}\n",
            "      966    0.009    0.000    0.009    0.000 {built-in method broadcast_tensors}\n",
            "       12    0.000    0.000    0.000    0.000 {built-in method builtins.__build_class__}\n",
            "      658    0.000    0.000    0.000    0.000 {built-in method builtins.abs}\n",
            "        1    0.000    0.000    0.000    0.000 {built-in method builtins.all}\n",
            "     1938    0.002    0.000    0.004    0.000 {built-in method builtins.any}\n",
            "        1    0.000    0.000    0.000    0.000 {built-in method builtins.callable}\n",
            "        2    0.000    0.000    0.000    0.000 {built-in method builtins.compile}\n",
            "     3234    0.001    0.000    0.001    0.000 {built-in method builtins.divmod}\n",
            "      5/2    0.000    0.000  181.691   90.845 {built-in method builtins.exec}\n",
            "     2784    0.002    0.000    0.002    0.000 {built-in method builtins.getattr}\n",
            "    30798    0.022    0.000    0.022    0.000 {built-in method builtins.hasattr}\n",
            "        1    0.000    0.000    0.000    0.000 {built-in method builtins.hash}\n",
            "     6210    0.001    0.000    0.001    0.000 {built-in method builtins.id}\n",
            "    81332    0.023    0.000    0.023    0.000 {built-in method builtins.isinstance}\n",
            "      730    0.000    0.000    0.000    0.000 {built-in method builtins.issubclass}\n",
            "     5160    0.003    0.000    0.003    0.000 {built-in method builtins.iter}\n",
            "77777/77693    0.016    0.000    0.017    0.000 {built-in method builtins.len}\n",
            "      650    0.001    0.000    0.001    0.000 {built-in method builtins.max}\n",
            "        4    0.000    0.000    0.000    0.000 {built-in method builtins.min}\n",
            "     1034    0.002    0.000    0.020    0.000 {built-in method builtins.next}\n",
            "    13650    0.002    0.000    0.002    0.000 {built-in method builtins.ord}\n",
            "        8    0.000    0.000    0.005    0.001 {built-in method builtins.print}\n",
            "        3    0.000    0.000    0.000    0.000 {built-in method builtins.setattr}\n",
            "        2    0.000    0.000    0.000    0.000 {built-in method builtins.sorted}\n",
            "     1288    0.271    0.000    0.271    0.000 {built-in method cat}\n",
            "      322    0.014    0.000    0.014    0.000 {built-in method clamp}\n",
            "       19    0.000    0.000    0.000    0.000 {built-in method clone}\n",
            "     1288    0.113    0.000    0.113    0.000 {built-in method constant_pad_nd}\n",
            "     9338    2.173    0.000    2.173    0.000 {built-in method conv2d}\n",
            "        4    0.000    0.000    0.000    0.000 {built-in method empty}\n",
            "      644    0.007    0.000    0.007    0.000 {built-in method exp}\n",
            "        4    0.000    0.000    0.000    0.000 {built-in method fcntl.ioctl}\n",
            "        6    0.000    0.000    0.000    0.000 {built-in method from_bytes}\n",
            "        2    0.017    0.009    0.017    0.009 {built-in method io.open}\n",
            "        3    0.000    0.000    0.000    0.000 {built-in method marshal.loads}\n",
            "     6440    0.004    0.000    0.004    0.000 {built-in method math.floor}\n",
            "      322    0.009    0.000    0.009    0.000 {built-in method matmul}\n",
            "     1932    0.255    0.000    0.255    0.000 {built-in method max_pool2d}\n",
            "     1288    0.041    0.000    0.041    0.000 {built-in method mean}\n",
            "      314    0.012    0.000    0.012    0.000 {built-in method ones_like}\n",
            "       24    0.000    0.000    0.000    0.000 {built-in method posix.WEXITSTATUS}\n",
            "       24    0.000    0.000    0.000    0.000 {built-in method posix.WIFEXITED}\n",
            "       24    0.000    0.000    0.000    0.000 {built-in method posix.WIFSIGNALED}\n",
            "       76    0.004    0.000    0.004    0.000 {built-in method posix.close}\n",
            "       24    0.947    0.039    0.947    0.039 {built-in method posix.fork}\n",
            "       10    0.000    0.000    0.000    0.000 {built-in method posix.fspath}\n",
            "     1031    0.002    0.000    0.002    0.000 {built-in method posix.getpid}\n",
            "       52    0.002    0.000    0.002    0.000 {built-in method posix.pipe}\n",
            "        9    0.000    0.000    0.000    0.000 {built-in method posix.stat}\n",
            "       92    0.690    0.007    0.690    0.008 {built-in method posix.waitpid}\n",
            "     7084    0.391    0.000    0.391    0.000 {built-in method relu_}\n",
            "      322    0.019    0.000    0.019    0.000 {built-in method relu}\n",
            "      322    0.018    0.000    0.018    0.000 {built-in method rsub}\n",
            "      322    0.016    0.000    0.016    0.000 {built-in method sigmoid}\n",
            "      322    0.023    0.000    0.023    0.000 {built-in method sqrt}\n",
            "      336    0.000    0.000    0.000    0.000 {built-in method time.monotonic}\n",
            "     1986    0.001    0.000    0.001    0.000 {built-in method time.time}\n",
            "        7    0.000    0.000    0.000    0.000 {built-in method torch._C._cuda_getDeviceCount}\n",
            "        4    0.000    0.000    0.000    0.000 {built-in method torch._C._cuda_getDevice}\n",
            "        6    0.000    0.000    0.000    0.000 {built-in method torch._C._cuda_isDriverSufficient}\n",
            "        6    0.000    0.000    0.000    0.000 {built-in method torch._C._cuda_isInBadFork}\n",
            "       24    0.000    0.000    0.000    0.000 {built-in method torch._C._error_if_any_worker_fails}\n",
            "     7406    0.005    0.000    0.005    0.000 {built-in method torch._C._get_cudnn_enabled}\n",
            "    41538    0.070    0.000    0.070    0.000 {built-in method torch._C._get_tracing_state}\n",
            "     1610    0.008    0.000    0.008    0.000 {built-in method torch._C._log_api_usage_once}\n",
            "        1    0.000    0.000    0.000    0.000 {built-in method torch._C._nn._parse_to}\n",
            "      322    0.047    0.000    0.047    0.000 {built-in method torch._C._nn.l1_loss}\n",
            "      322    0.013    0.000    0.013    0.000 {built-in method torch._C._nn.log_sigmoid}\n",
            "      644    0.065    0.000    0.065    0.000 {built-in method torch._C._nn.mse_loss}\n",
            "     1610    0.142    0.000    0.142    0.000 {built-in method torch._C._nn.reflection_pad2d}\n",
            "     1610    0.235    0.000    0.235    0.000 {built-in method torch._C._nn.upsample_bilinear2d}\n",
            "        4    0.000    0.000    0.000    0.000 {built-in method torch._C._remove_worker_pids}\n",
            "        1    0.000    0.000    0.000    0.000 {built-in method torch._C._set_cudnn_deterministic}\n",
            "        4    0.000    0.000    0.000    0.000 {built-in method torch._C._set_worker_pids}\n",
            "      818    0.001    0.000    0.001    0.000 {built-in method torch._C.is_grad_enabled}\n",
            "      818    0.000    0.000    0.000    0.000 {built-in method torch._C.set_grad_enabled}\n",
            "      322    0.006    0.000    0.006    0.000 {built-in method unsqueeze}\n",
            "      664    0.003    0.000    0.003    0.000 {built-in method utcfromtimestamp}\n",
            "        1    0.000    0.000    0.000    0.000 {function Random.seed at 0x7f460ee12950}\n",
            "      322    0.007    0.000    0.007    0.000 {function Tensor.split at 0x7f458ad39f28}\n",
            "        4    0.000    0.000    0.000    0.000 {method '__enter__' of '_multiprocessing.SemLock' objects}\n",
            "     2106    0.001    0.000    0.001    0.000 {method '__enter__' of '_thread.lock' objects}\n",
            "        4    0.000    0.000    0.000    0.000 {method '__exit__' of '_multiprocessing.SemLock' objects}\n",
            "     2106    0.001    0.000    0.001    0.000 {method '__exit__' of '_thread.lock' objects}\n",
            "      966    0.004    0.000    0.004    0.000 {method '__format__' of 'float' objects}\n",
            "        4    0.000    0.000    0.000    0.000 {method '_is_mine' of '_multiprocessing.SemLock' objects}\n",
            "      316    0.384    0.001    0.384    0.001 {method '_write_file' of 'torch._C.CudaFloatStorageBase' objects}\n",
            "       46    0.005    0.000    0.005    0.000 {method '_write_file' of 'torch._C.CudaLongStorageBase' objects}\n",
            "     1028    0.069    0.000    0.069    0.000 {method 'acquire' of '_multiprocessing.SemLock' objects}\n",
            "      662    0.001    0.000    0.001    0.000 {method 'acquire' of '_thread.RLock' objects}\n",
            "     5993    7.012    0.001    7.012    0.001 {method 'acquire' of '_thread.lock' objects}\n",
            "      686    0.000    0.000    0.000    0.000 {method 'add' of 'set' objects}\n",
            "     5966    0.091    0.000    0.091    0.000 {method 'add' of 'torch._C._TensorBase' objects}\n",
            "    11913    0.117    0.000    0.117    0.000 {method 'add_' of 'torch._C._TensorBase' objects}\n",
            "     3999    0.002    0.000    0.002    0.000 {method 'append' of 'collections.deque' objects}\n",
            "    12601    0.002    0.000    0.002    0.000 {method 'append' of 'list' objects}\n",
            "      840    0.000    0.000    0.000    0.000 {method 'bit_length' of 'int' objects}\n",
            "      322    0.017    0.000    0.017    0.000 {method 'clamp' of 'torch._C._TensorBase' objects}\n",
            "       28    0.000    0.000    0.000    0.000 {method 'clear' of 'collections.deque' objects}\n",
            "        2    0.007    0.003    0.007    0.003 {method 'close' of '_io.BufferedWriter' objects}\n",
            "      644    0.001    0.000    0.001    0.000 {method 'contiguous' of 'torch._C._TensorBase' objects}\n",
            "       24    0.000    0.000    0.000    0.000 {method 'copy' of 'dict' objects}\n",
            "      664    0.002    0.000    0.002    0.000 {method 'decode' of 'bytes' objects}\n",
            "      343    0.001    0.000    0.001    0.000 {method 'detach' of 'torch._C._TensorBase' objects}\n",
            "     5947    0.045    0.000    0.045    0.000 {method 'detach_' of 'torch._C._TensorBase' objects}\n",
            "        4    0.000    0.000    0.000    0.000 {method 'difference' of 'set' objects}\n",
            "    33810    0.012    0.000    0.012    0.000 {method 'dim' of 'torch._C._TensorBase' objects}\n",
            "        1    0.000    0.000    0.000    0.000 {method 'disable' of '_lsprof.Profiler' objects}\n",
            "       64    0.000    0.000    0.000    0.000 {method 'discard' of 'set' objects}\n",
            "        2    0.005    0.002    0.015    0.007 {method 'dump' of '_pickle.Pickler' objects}\n",
            "     4686    0.004    0.000    0.004    0.000 {method 'encode' of 'str' objects}\n",
            "      664    0.000    0.000    0.000    0.000 {method 'end' of '_sre.SRE_Match' objects}\n",
            "     3998    0.001    0.000    0.001    0.000 {method 'endswith' of 'bytes' objects}\n",
            "       11    0.000    0.000    0.000    0.000 {method 'endswith' of 'str' objects}\n",
            "      966    0.081    0.000    0.081    0.000 {method 'exp' of 'torch._C._TensorBase' objects}\n",
            "      322    0.004    0.000    0.004    0.000 {method 'expand_as' of 'torch._C._TensorBase' objects}\n",
            "      362    0.000    0.000    0.000    0.000 {method 'fileno' of '_io.BufferedWriter' objects}\n",
            "      644    0.011    0.000    0.011    0.000 {method 'float' of 'torch._C._TensorBase' objects}\n",
            "        2    0.001    0.000    0.001    0.000 {method 'flush' of '_io.BufferedWriter' objects}\n",
            "     5844    0.018    0.000    0.023    0.000 {method 'format' of 'str' objects}\n",
            "    78186    0.016    0.000    0.016    0.000 {method 'get' of 'dict' objects}\n",
            "      316    0.000    0.000    0.000    0.000 {method 'get_device' of 'torch._C.CudaFloatStorageBase' objects}\n",
            "       46    0.000    0.000    0.000    0.000 {method 'get_device' of 'torch._C.CudaLongStorageBase' objects}\n",
            "     1470    0.001    0.000    0.001    0.000 {method 'getrandbits' of '_random.Random' objects}\n",
            "      362    0.000    0.000    0.000    0.000 {method 'has_names' of 'torch._C._TensorBase' objects}\n",
            "      162    0.000    0.000    0.000    0.000 {method 'is_floating_point' of 'torch._C._TensorBase' objects}\n",
            "      664    0.005    0.000    0.005    0.000 {method 'isoformat' of 'datetime.datetime' objects}\n",
            "      982  113.711    0.116  113.711    0.116 {method 'item' of 'torch._C._TensorBase' objects}\n",
            "     1547    0.000    0.000    0.000    0.000 {method 'items' of 'collections.OrderedDict' objects}\n",
            "        5    0.000    0.000    0.000    0.000 {method 'items' of 'dict' objects}\n",
            "      664    0.001    0.000    0.001    0.000 {method 'join' of 'bytes' objects}\n",
            "      153    0.000    0.000    0.000    0.000 {method 'join' of 'str' objects}\n",
            "        2    0.000    0.000    0.000    0.000 {method 'keys' of 'dict' objects}\n",
            "        8    0.000    0.000    0.000    0.000 {method 'locked' of '_thread.lock' objects}\n",
            "      322    0.010    0.000    0.010    0.000 {method 'log' of 'torch._C._TensorBase' objects}\n",
            "        2    0.000    0.000    0.000    0.000 {method 'manual_seed' of 'torch._C.Generator' objects}\n",
            "      644    0.028    0.000    0.028    0.000 {method 'mean' of 'torch._C._TensorBase' objects}\n",
            "     5947    0.086    0.000    0.086    0.000 {method 'mul_' of 'torch._C._TensorBase' objects}\n",
            "      314    0.000    0.000    0.000    0.000 {method 'numel' of 'torch._C._TensorBase' objects}\n",
            "       23    0.000    0.000    0.000    0.000 {method 'pop' of 'dict' objects}\n",
            "      322    0.000    0.000    0.000    0.000 {method 'popleft' of 'collections.deque' objects}\n",
            "     1288    0.056    0.000    0.056    0.000 {method 'pow' of 'torch._C._TensorBase' objects}\n",
            "        4    0.003    0.001    0.003    0.001 {method 'random_' of 'torch._C._TensorBase' objects}\n",
            "        3    0.000    0.000    0.000    0.000 {method 'read' of '_io.FileIO' objects}\n",
            "      666    0.001    0.000    0.001    0.000 {method 'release' of '_multiprocessing.SemLock' objects}\n",
            "      662    0.001    0.000    0.001    0.000 {method 'release' of '_thread.RLock' objects}\n",
            "     1176    0.012    0.000    0.012    0.000 {method 'release' of '_thread.lock' objects}\n",
            "      956    0.000    0.000    0.000    0.000 {method 'remove' of 'collections.deque' objects}\n",
            "       12    0.000    0.000    0.000    0.000 {method 'remove' of 'set' objects}\n",
            "      322    0.001    0.000    0.001    0.000 {method 'requires_grad_' of 'torch._C._TensorBase' objects}\n",
            "     1610    0.017    0.000    0.017    0.000 {method 'reshape' of 'torch._C._TensorBase' objects}\n",
            "      224    0.000    0.000    0.000    0.000 {method 'rpartition' of 'str' objects}\n",
            "       42    0.000    0.000    0.000    0.000 {method 'rstrip' of 'str' objects}\n",
            "      314    3.892    0.012    3.892    0.012 {method 'run_backward' of 'torch._C._EngineBase' objects}\n",
            "     1342    0.007    0.000    0.007    0.000 {method 'search' of '_sre.SRE_Pattern' objects}\n",
            "        2    0.000    0.000    0.000    0.000 {method 'setter' of 'property' objects}\n",
            "      316    0.000    0.000    0.000    0.000 {method 'size' of 'torch._C.CudaFloatStorageBase' objects}\n",
            "       46    0.000    0.000    0.000    0.000 {method 'size' of 'torch._C.CudaLongStorageBase' objects}\n",
            "    18532    0.030    0.000    0.030    0.000 {method 'size' of 'torch._C._TensorBase' objects}\n",
            "      650    0.001    0.000    0.001    0.000 {method 'startswith' of 'bytes' objects}\n",
            "       20    0.000    0.000    0.000    0.000 {method 'startswith' of 'str' objects}\n",
            "      362    0.000    0.000    0.000    0.000 {method 'storage' of 'torch._C._TensorBase' objects}\n",
            "      362    0.000    0.000    0.000    0.000 {method 'storage_offset' of 'torch._C._TensorBase' objects}\n",
            "      362    0.000    0.000    0.000    0.000 {method 'stride' of 'torch._C._TensorBase' objects}\n",
            "     1610    0.088    0.000    0.088    0.000 {method 'sum' of 'torch._C._TensorBase' objects}\n",
            "      322    0.002    0.000    0.002    0.000 {method 't' of 'torch._C._TensorBase' objects}\n",
            "     4992   43.650    0.009   43.650    0.009 {method 'to' of 'torch._C._TensorBase' objects}\n",
            "     2254    0.016    0.000    0.016    0.000 {method 'unsqueeze' of 'torch._C._TensorBase' objects}\n",
            "      651    0.001    0.000    0.001    0.000 {method 'update' of 'dict' objects}\n",
            "    85246    0.019    0.000    0.019    0.000 {method 'values' of 'collections.OrderedDict' objects}\n",
            "     2254    0.030    0.000    0.030    0.000 {method 'view' of 'torch._C._TensorBase' objects}\n",
            "     5947    0.358    0.000    0.358    0.000 {method 'zero_' of 'torch._C._TensorBase' objects}\n",
            "\n",
            "\n"
          ],
          "name": "stdout"
        }
      ]
    },
    {
      "cell_type": "code",
      "metadata": {
        "id": "PqTirICmF2mT",
        "colab_type": "code",
        "colab": {}
      },
      "source": [
        "!mkdir -p /content/wandb/run-20200516_161642-3naldsdk/"
      ],
      "execution_count": 0,
      "outputs": []
    },
    {
      "cell_type": "markdown",
      "metadata": {
        "id": "KmzjBIRjyB7W",
        "colab_type": "text"
      },
      "source": [
        "Baseline model save path: '/content/drive/My Drive/EVA4/model_saves/model-2d84393326.h5'  "
      ]
    },
    {
      "cell_type": "code",
      "metadata": {
        "id": "yWWjnIDsEUKo",
        "colab_type": "code",
        "colab": {}
      },
      "source": [
        "torch.save({\n",
        "    'model_state_dict': model_new.state_dict(),\n",
        "    'optimizer_state_dict': optimizer.state_dict(),\n",
        "    }, '/content/drive/My Drive/EVA4/baseline_models/64_RekNet_BRM.h5')"
      ],
      "execution_count": 0,
      "outputs": []
    },
    {
      "cell_type": "code",
      "metadata": {
        "id": "s6t-Mgr5LUL9",
        "colab_type": "code",
        "colab": {}
      },
      "source": [
        "del expand_model\n",
        "torch.cuda.empty_cache()"
      ],
      "execution_count": 0,
      "outputs": []
    },
    {
      "cell_type": "code",
      "metadata": {
        "id": "yh9T39yGHEbm",
        "colab_type": "code",
        "colab": {}
      },
      "source": [
        "device = torch.device(\"cuda\" if not hyperparams.hyperparameter_defaults['no_cuda'] else \"cpu\")\n",
        "#model_new  =mmdmodels.UNet(n_channels=6, n_classes=2)\n",
        "model_new  =mmdmodels.UNet(n_channels=6, n_classes=2)\n",
        "expand_model  =mmdmodels.CustomUNet(model_new,n_channels=6, n_classes=2)\n",
        "expand_model = mmdtraintest.load_model_for_infer(expand_model, \n",
        "                                  '/content/drive/My Drive/EVA4/model_saves/model-fa59faa675.h5',\n",
        "                                  device)\n"
      ],
      "execution_count": 0,
      "outputs": []
    },
    {
      "cell_type": "code",
      "metadata": {
        "id": "KU_tcdMAEz26",
        "colab_type": "code",
        "colab": {}
      },
      "source": [
        "img = iter(test_loader).next()\n",
        "with torch.no_grad():\n",
        "    output_val = model_new(img[0].to(device))"
      ],
      "execution_count": 0,
      "outputs": []
    },
    {
      "cell_type": "code",
      "metadata": {
        "id": "fJdTUTspOPwX",
        "colab_type": "code",
        "colab": {}
      },
      "source": [
        "output_pred = torch.split(output_val,1,dim=1)"
      ],
      "execution_count": 0,
      "outputs": []
    },
    {
      "cell_type": "code",
      "metadata": {
        "id": "zOn27nJNZRsW",
        "colab_type": "code",
        "outputId": "54123272-6588-4f9b-93d8-d0b15857c80a",
        "colab": {
          "base_uri": "https://localhost:8080/",
          "height": 67
        }
      },
      "source": [
        "%%time\n",
        "mmdlosses.LocalSSIMLoss(output_pred[0],img[2])"
      ],
      "execution_count": 0,
      "outputs": [
        {
          "output_type": "stream",
          "text": [
            "CPU times: user 617 ms, sys: 11.1 ms, total: 628 ms\n",
            "Wall time: 628 ms\n"
          ],
          "name": "stdout"
        },
        {
          "output_type": "execute_result",
          "data": {
            "text/plain": [
              "tensor(0.4929)"
            ]
          },
          "metadata": {
            "tags": []
          },
          "execution_count": 39
        }
      ]
    },
    {
      "cell_type": "code",
      "metadata": {
        "id": "E15yIgd0mwPc",
        "colab_type": "code",
        "colab": {}
      },
      "source": [
        "mmdtraintest.display_samples_new(expand_model, test_loader, device)"
      ],
      "execution_count": 0,
      "outputs": []
    },
    {
      "cell_type": "code",
      "metadata": {
        "id": "HAi_AxiQDZrF",
        "colab_type": "code",
        "colab": {}
      },
      "source": [
        "output_pred[0][0],torch.sigmoid(output_pred[0][0])"
      ],
      "execution_count": 0,
      "outputs": []
    },
    {
      "cell_type": "code",
      "metadata": {
        "id": "dm3SCXUdC_sb",
        "colab_type": "code",
        "outputId": "4f59f012-645d-4036-a217-3f3327676e45",
        "colab": {
          "base_uri": "https://localhost:8080/",
          "height": 1000
        }
      },
      "source": [
        "#loss_func = [mmdlosses.LocalRMSELoss, mmdlosses.LocalSSIMLoss, mmdlosses.LocalPixelLoss, mmdlosses.LocalBCELoss, mmdlosses.dice_loss]\n",
        "#loss_func = [mmdlosses.LocalRMSELoss,  mmdlosses.LocalPixelLoss, mmdlosses.LocalBCELoss, mmdlosses.dice_loss]\n",
        "loss_func = [mmdlosses.LocalSSIMLoss]\n",
        "pr = cProfile.Profile()\n",
        "pr.enable()\n",
        "for loss_val in loss_func:    \n",
        "    own_loss = 1#loss_val(img['output'][0],img['output'][0])\n",
        "    pred_loss = loss_val(output_pred[1].to(device),img[2].to(device))\n",
        "    #print(\"Own loss:{} Pred Loss:{} Diff:{}\".format(own_loss, pred_loss, torch.abs(pred_loss/own_loss)))\n",
        "pr.disable()\n",
        "#mmdlosses.LocalRMSELoss(output_pred[0],img['output'][0])\n",
        "pr.print_stats()"
      ],
      "execution_count": 0,
      "outputs": [
        {
          "output_type": "stream",
          "text": [
            "         294 function calls in 0.059 seconds\n",
            "\n",
            "   Ordered by: standard name\n",
            "\n",
            "   ncalls  tottime  percall  cumtime  percall filename:lineno(function)\n",
            "        1    0.000    0.000    0.000    0.000 <ipython-input-43-de63fac48051>:10(<module>)\n",
            "        1    0.000    0.000    0.058    0.058 <ipython-input-43-de63fac48051>:6(<module>)\n",
            "        2    0.000    0.000    0.000    0.000 __init__.py:167(is_tensor)\n",
            "        5    0.000    0.000    0.000    0.000 __init__.py:1917(is_scripting)\n",
            "        2    0.000    0.000    0.000    0.000 codeop.py:132(__call__)\n",
            "        5    0.000    0.000    0.000    0.000 filter.py:14(<listcomp>)\n",
            "        5    0.000    0.000    0.050    0.010 filter.py:23(filter2D)\n",
            "        5    0.000    0.000    0.000    0.000 filter.py:9(compute_padding)\n",
            "        5    0.000    0.000    0.001    0.000 functional.py:3327(_pad)\n",
            "        2    0.000    0.000    0.000    0.000 hooks.py:139(__call__)\n",
            "        2    0.000    0.000    0.000    0.000 hooks.py:204(pre_run_code_hook)\n",
            "        2    0.000    0.000    0.000    0.000 interactiveshell.py:1067(user_global_ns)\n",
            "        2    0.000    0.000    0.059    0.029 interactiveshell.py:2852(run_code)\n",
            "        2    0.000    0.000    0.000    0.000 ipstruct.py:125(__getattr__)\n",
            "        2    0.000    0.000    0.000    0.000 kernels.py:19(gaussian)\n",
            "        2    0.000    0.000    0.000    0.000 kernels.py:294(get_gaussian_kernel1d)\n",
            "        1    0.000    0.000    0.000    0.000 kernels.py:329(get_gaussian_kernel2d)\n",
            "        1    0.000    0.000    0.053    0.053 mmdlosses.py:59(LocalSSIMLoss)\n",
            "        1    0.000    0.000    0.053    0.053 module.py:540(__call__)\n",
            "       17    0.000    0.000    0.000    0.000 module.py:596(__setattr__)\n",
            "        1    0.000    0.000    0.000    0.000 module.py:71(__init__)\n",
            "        1    0.000    0.000    0.000    0.000 ssim.py:10(_compute_zero_padding)\n",
            "        1    0.000    0.000    0.053    0.053 ssim.py:152(ssim)\n",
            "        1    0.000    0.000    0.001    0.001 ssim.py:63(__init__)\n",
            "        1    0.002    0.002    0.053    0.053 ssim.py:82(forward)\n",
            "        2    0.000    0.000    0.000    0.000 {built-in method arange}\n",
            "        2    0.000    0.000    0.000    0.000 {built-in method builtins.compile}\n",
            "        2    0.000    0.000    0.058    0.029 {built-in method builtins.exec}\n",
            "       55    0.000    0.000    0.000    0.000 {built-in method builtins.isinstance}\n",
            "       35    0.000    0.000    0.000    0.000 {built-in method builtins.len}\n",
            "        1    0.000    0.000    0.000    0.000 {built-in method clamp}\n",
            "        5    0.048    0.010    0.048    0.010 {built-in method conv2d}\n",
            "        2    0.000    0.000    0.000    0.000 {built-in method exp}\n",
            "        1    0.000    0.000    0.000    0.000 {built-in method matmul}\n",
            "        1    0.000    0.000    0.000    0.000 {built-in method mean}\n",
            "        1    0.000    0.000    0.000    0.000 {built-in method torch._C._get_tracing_state}\n",
            "        1    0.000    0.000    0.000    0.000 {built-in method torch._C._log_api_usage_once}\n",
            "        5    0.001    0.000    0.001    0.000 {built-in method torch._C._nn.reflection_pad2d}\n",
            "        1    0.000    0.000    0.000    0.000 {built-in method unsqueeze}\n",
            "       15    0.000    0.000    0.000    0.000 {method 'dim' of 'torch._C._TensorBase' objects}\n",
            "        1    0.000    0.000    0.000    0.000 {method 'disable' of '_lsprof.Profiler' objects}\n",
            "        2    0.000    0.000    0.000    0.000 {method 'float' of 'torch._C._TensorBase' objects}\n",
            "       51    0.000    0.000    0.000    0.000 {method 'get' of 'dict' objects}\n",
            "        4    0.000    0.000    0.000    0.000 {method 'pow' of 'torch._C._TensorBase' objects}\n",
            "        1    0.000    0.000    0.000    0.000 {method 'requires_grad_' of 'torch._C._TensorBase' objects}\n",
            "        5    0.000    0.000    0.000    0.000 {method 'reshape' of 'torch._C._TensorBase' objects}\n",
            "        2    0.000    0.000    0.000    0.000 {method 'sum' of 'torch._C._TensorBase' objects}\n",
            "        1    0.000    0.000    0.000    0.000 {method 't' of 'torch._C._TensorBase' objects}\n",
            "       14    0.005    0.000    0.005    0.000 {method 'to' of 'torch._C._TensorBase' objects}\n",
            "        7    0.000    0.000    0.000    0.000 {method 'unsqueeze' of 'torch._C._TensorBase' objects}\n",
            "        2    0.000    0.000    0.000    0.000 {method 'values' of 'collections.OrderedDict' objects}\n",
            "        5    0.000    0.000    0.000    0.000 {method 'view' of 'torch._C._TensorBase' objects}\n",
            "\n",
            "\n"
          ],
          "name": "stdout"
        }
      ]
    }
  ]
}